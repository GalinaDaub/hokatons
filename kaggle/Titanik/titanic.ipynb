{
 "cells": [
  {
   "cell_type": "markdown",
   "metadata": {},
   "source": [
    "# Выжившие на Титанике"
   ]
  },
  {
   "cell_type": "markdown",
   "metadata": {},
   "source": [
    "Даны 2 набора данных: трейн и тест о пассажирах титаника. \n",
    "\n",
    "В трейне известна летальность. Нужно предсказать, сколько умерших в тесте. Метрика accuracy."
   ]
  },
  {
   "cell_type": "markdown",
   "metadata": {},
   "source": [
    "## Импорты"
   ]
  },
  {
   "cell_type": "markdown",
   "metadata": {},
   "source": [
    "Работать будем с пандасом, бустингами, лесом и логрегом, т.к. задача бинарной классификации по типу \"да/нет\""
   ]
  },
  {
   "cell_type": "code",
   "execution_count": 1,
   "metadata": {
    "execution": {
     "iopub.execute_input": "2021-12-16T20:37:42.357146Z",
     "iopub.status.busy": "2021-12-16T20:37:42.356343Z",
     "iopub.status.idle": "2021-12-16T20:37:43.429353Z",
     "shell.execute_reply": "2021-12-16T20:37:43.428431Z",
     "shell.execute_reply.started": "2021-12-16T20:37:42.357012Z"
    }
   },
   "outputs": [
    {
     "name": "stderr",
     "output_type": "stream",
     "text": [
      "/home/dgv/.local/lib/python3.7/site-packages/pandas/compat/__init__.py:120: UserWarning: Could not import the lzma module. Your installed Python is incomplete. Attempting to use lzma compression will result in a RuntimeError.\n",
      "  warnings.warn(msg)\n"
     ]
    }
   ],
   "source": [
    "import pandas as pd\n",
    "import matplotlib.pyplot as plt\n",
    "import time\n",
    "import numpy as np\n",
    "\n",
    "from sklearn.ensemble import RandomForestClassifier\n",
    "from sklearn.linear_model import LogisticRegression\n",
    "from lightgbm import LGBMClassifier\n",
    "from catboost import CatBoostClassifier\n",
    "\n",
    "from sklearn.preprocessing import StandardScaler\n",
    "from sklearn.preprocessing import OrdinalEncoder\n",
    "\n",
    "from sklearn.metrics import accuracy_score\n",
    "from sklearn.metrics import f1_score\n",
    "\n",
    "\n",
    "from sklearn.model_selection import train_test_split\n"
   ]
  },
  {
   "cell_type": "markdown",
   "metadata": {},
   "source": [
    "## Предобработка"
   ]
  },
  {
   "cell_type": "markdown",
   "metadata": {},
   "source": [
    "Посмотрим, что там у нас за данные:"
   ]
  },
  {
   "cell_type": "code",
   "execution_count": 2,
   "metadata": {
    "execution": {
     "iopub.execute_input": "2021-12-16T20:37:43.430971Z",
     "iopub.status.busy": "2021-12-16T20:37:43.430656Z",
     "iopub.status.idle": "2021-12-16T20:37:43.455413Z",
     "shell.execute_reply": "2021-12-16T20:37:43.454633Z",
     "shell.execute_reply.started": "2021-12-16T20:37:43.430930Z"
    }
   },
   "outputs": [
    {
     "data": {
      "text/html": [
       "<div>\n",
       "<style scoped>\n",
       "    .dataframe tbody tr th:only-of-type {\n",
       "        vertical-align: middle;\n",
       "    }\n",
       "\n",
       "    .dataframe tbody tr th {\n",
       "        vertical-align: top;\n",
       "    }\n",
       "\n",
       "    .dataframe thead th {\n",
       "        text-align: right;\n",
       "    }\n",
       "</style>\n",
       "<table border=\"1\" class=\"dataframe\">\n",
       "  <thead>\n",
       "    <tr style=\"text-align: right;\">\n",
       "      <th></th>\n",
       "      <th>PassengerId</th>\n",
       "      <th>Survived</th>\n",
       "      <th>Pclass</th>\n",
       "      <th>Name</th>\n",
       "      <th>Sex</th>\n",
       "      <th>Age</th>\n",
       "      <th>SibSp</th>\n",
       "      <th>Parch</th>\n",
       "      <th>Ticket</th>\n",
       "      <th>Fare</th>\n",
       "      <th>Cabin</th>\n",
       "      <th>Embarked</th>\n",
       "    </tr>\n",
       "  </thead>\n",
       "  <tbody>\n",
       "    <tr>\n",
       "      <th>0</th>\n",
       "      <td>1</td>\n",
       "      <td>0</td>\n",
       "      <td>3</td>\n",
       "      <td>Braund, Mr. Owen Harris</td>\n",
       "      <td>male</td>\n",
       "      <td>22.0</td>\n",
       "      <td>1</td>\n",
       "      <td>0</td>\n",
       "      <td>A/5 21171</td>\n",
       "      <td>7.2500</td>\n",
       "      <td>NaN</td>\n",
       "      <td>S</td>\n",
       "    </tr>\n",
       "    <tr>\n",
       "      <th>1</th>\n",
       "      <td>2</td>\n",
       "      <td>1</td>\n",
       "      <td>1</td>\n",
       "      <td>Cumings, Mrs. John Bradley (Florence Briggs Th...</td>\n",
       "      <td>female</td>\n",
       "      <td>38.0</td>\n",
       "      <td>1</td>\n",
       "      <td>0</td>\n",
       "      <td>PC 17599</td>\n",
       "      <td>71.2833</td>\n",
       "      <td>C85</td>\n",
       "      <td>C</td>\n",
       "    </tr>\n",
       "    <tr>\n",
       "      <th>2</th>\n",
       "      <td>3</td>\n",
       "      <td>1</td>\n",
       "      <td>3</td>\n",
       "      <td>Heikkinen, Miss. Laina</td>\n",
       "      <td>female</td>\n",
       "      <td>26.0</td>\n",
       "      <td>0</td>\n",
       "      <td>0</td>\n",
       "      <td>STON/O2. 3101282</td>\n",
       "      <td>7.9250</td>\n",
       "      <td>NaN</td>\n",
       "      <td>S</td>\n",
       "    </tr>\n",
       "    <tr>\n",
       "      <th>3</th>\n",
       "      <td>4</td>\n",
       "      <td>1</td>\n",
       "      <td>1</td>\n",
       "      <td>Futrelle, Mrs. Jacques Heath (Lily May Peel)</td>\n",
       "      <td>female</td>\n",
       "      <td>35.0</td>\n",
       "      <td>1</td>\n",
       "      <td>0</td>\n",
       "      <td>113803</td>\n",
       "      <td>53.1000</td>\n",
       "      <td>C123</td>\n",
       "      <td>S</td>\n",
       "    </tr>\n",
       "    <tr>\n",
       "      <th>4</th>\n",
       "      <td>5</td>\n",
       "      <td>0</td>\n",
       "      <td>3</td>\n",
       "      <td>Allen, Mr. William Henry</td>\n",
       "      <td>male</td>\n",
       "      <td>35.0</td>\n",
       "      <td>0</td>\n",
       "      <td>0</td>\n",
       "      <td>373450</td>\n",
       "      <td>8.0500</td>\n",
       "      <td>NaN</td>\n",
       "      <td>S</td>\n",
       "    </tr>\n",
       "  </tbody>\n",
       "</table>\n",
       "</div>"
      ],
      "text/plain": [
       "   PassengerId  Survived  Pclass  \\\n",
       "0            1         0       3   \n",
       "1            2         1       1   \n",
       "2            3         1       3   \n",
       "3            4         1       1   \n",
       "4            5         0       3   \n",
       "\n",
       "                                                Name     Sex   Age  SibSp  \\\n",
       "0                            Braund, Mr. Owen Harris    male  22.0      1   \n",
       "1  Cumings, Mrs. John Bradley (Florence Briggs Th...  female  38.0      1   \n",
       "2                             Heikkinen, Miss. Laina  female  26.0      0   \n",
       "3       Futrelle, Mrs. Jacques Heath (Lily May Peel)  female  35.0      1   \n",
       "4                           Allen, Mr. William Henry    male  35.0      0   \n",
       "\n",
       "   Parch            Ticket     Fare Cabin Embarked  \n",
       "0      0         A/5 21171   7.2500   NaN        S  \n",
       "1      0          PC 17599  71.2833   C85        C  \n",
       "2      0  STON/O2. 3101282   7.9250   NaN        S  \n",
       "3      0            113803  53.1000  C123        S  \n",
       "4      0            373450   8.0500   NaN        S  "
      ]
     },
     "execution_count": 2,
     "metadata": {},
     "output_type": "execute_result"
    }
   ],
   "source": [
    "train = pd.read_csv('train.csv')\n",
    "train.head()"
   ]
  },
  {
   "cell_type": "code",
   "execution_count": 3,
   "metadata": {
    "execution": {
     "iopub.execute_input": "2021-12-16T20:37:43.456886Z",
     "iopub.status.busy": "2021-12-16T20:37:43.456643Z",
     "iopub.status.idle": "2021-12-16T20:37:43.477271Z",
     "shell.execute_reply": "2021-12-16T20:37:43.476414Z",
     "shell.execute_reply.started": "2021-12-16T20:37:43.456856Z"
    }
   },
   "outputs": [
    {
     "data": {
      "text/html": [
       "<div>\n",
       "<style scoped>\n",
       "    .dataframe tbody tr th:only-of-type {\n",
       "        vertical-align: middle;\n",
       "    }\n",
       "\n",
       "    .dataframe tbody tr th {\n",
       "        vertical-align: top;\n",
       "    }\n",
       "\n",
       "    .dataframe thead th {\n",
       "        text-align: right;\n",
       "    }\n",
       "</style>\n",
       "<table border=\"1\" class=\"dataframe\">\n",
       "  <thead>\n",
       "    <tr style=\"text-align: right;\">\n",
       "      <th></th>\n",
       "      <th>PassengerId</th>\n",
       "      <th>Pclass</th>\n",
       "      <th>Name</th>\n",
       "      <th>Sex</th>\n",
       "      <th>Age</th>\n",
       "      <th>SibSp</th>\n",
       "      <th>Parch</th>\n",
       "      <th>Ticket</th>\n",
       "      <th>Fare</th>\n",
       "      <th>Cabin</th>\n",
       "      <th>Embarked</th>\n",
       "    </tr>\n",
       "  </thead>\n",
       "  <tbody>\n",
       "    <tr>\n",
       "      <th>0</th>\n",
       "      <td>892</td>\n",
       "      <td>3</td>\n",
       "      <td>Kelly, Mr. James</td>\n",
       "      <td>male</td>\n",
       "      <td>34.5</td>\n",
       "      <td>0</td>\n",
       "      <td>0</td>\n",
       "      <td>330911</td>\n",
       "      <td>7.8292</td>\n",
       "      <td>NaN</td>\n",
       "      <td>Q</td>\n",
       "    </tr>\n",
       "    <tr>\n",
       "      <th>1</th>\n",
       "      <td>893</td>\n",
       "      <td>3</td>\n",
       "      <td>Wilkes, Mrs. James (Ellen Needs)</td>\n",
       "      <td>female</td>\n",
       "      <td>47.0</td>\n",
       "      <td>1</td>\n",
       "      <td>0</td>\n",
       "      <td>363272</td>\n",
       "      <td>7.0000</td>\n",
       "      <td>NaN</td>\n",
       "      <td>S</td>\n",
       "    </tr>\n",
       "    <tr>\n",
       "      <th>2</th>\n",
       "      <td>894</td>\n",
       "      <td>2</td>\n",
       "      <td>Myles, Mr. Thomas Francis</td>\n",
       "      <td>male</td>\n",
       "      <td>62.0</td>\n",
       "      <td>0</td>\n",
       "      <td>0</td>\n",
       "      <td>240276</td>\n",
       "      <td>9.6875</td>\n",
       "      <td>NaN</td>\n",
       "      <td>Q</td>\n",
       "    </tr>\n",
       "    <tr>\n",
       "      <th>3</th>\n",
       "      <td>895</td>\n",
       "      <td>3</td>\n",
       "      <td>Wirz, Mr. Albert</td>\n",
       "      <td>male</td>\n",
       "      <td>27.0</td>\n",
       "      <td>0</td>\n",
       "      <td>0</td>\n",
       "      <td>315154</td>\n",
       "      <td>8.6625</td>\n",
       "      <td>NaN</td>\n",
       "      <td>S</td>\n",
       "    </tr>\n",
       "    <tr>\n",
       "      <th>4</th>\n",
       "      <td>896</td>\n",
       "      <td>3</td>\n",
       "      <td>Hirvonen, Mrs. Alexander (Helga E Lindqvist)</td>\n",
       "      <td>female</td>\n",
       "      <td>22.0</td>\n",
       "      <td>1</td>\n",
       "      <td>1</td>\n",
       "      <td>3101298</td>\n",
       "      <td>12.2875</td>\n",
       "      <td>NaN</td>\n",
       "      <td>S</td>\n",
       "    </tr>\n",
       "  </tbody>\n",
       "</table>\n",
       "</div>"
      ],
      "text/plain": [
       "   PassengerId  Pclass                                          Name     Sex  \\\n",
       "0          892       3                              Kelly, Mr. James    male   \n",
       "1          893       3              Wilkes, Mrs. James (Ellen Needs)  female   \n",
       "2          894       2                     Myles, Mr. Thomas Francis    male   \n",
       "3          895       3                              Wirz, Mr. Albert    male   \n",
       "4          896       3  Hirvonen, Mrs. Alexander (Helga E Lindqvist)  female   \n",
       "\n",
       "    Age  SibSp  Parch   Ticket     Fare Cabin Embarked  \n",
       "0  34.5      0      0   330911   7.8292   NaN        Q  \n",
       "1  47.0      1      0   363272   7.0000   NaN        S  \n",
       "2  62.0      0      0   240276   9.6875   NaN        Q  \n",
       "3  27.0      0      0   315154   8.6625   NaN        S  \n",
       "4  22.0      1      1  3101298  12.2875   NaN        S  "
      ]
     },
     "execution_count": 3,
     "metadata": {},
     "output_type": "execute_result"
    }
   ],
   "source": [
    "test = pd.read_csv('test.csv')\n",
    "test.head()"
   ]
  },
  {
   "cell_type": "markdown",
   "metadata": {},
   "source": [
    "Таблица соотношений:"
   ]
  },
  {
   "cell_type": "code",
   "execution_count": 4,
   "metadata": {
    "execution": {
     "iopub.execute_input": "2021-12-16T20:37:43.480500Z",
     "iopub.status.busy": "2021-12-16T20:37:43.480038Z",
     "iopub.status.idle": "2021-12-16T20:37:43.511398Z",
     "shell.execute_reply": "2021-12-16T20:37:43.510560Z",
     "shell.execute_reply.started": "2021-12-16T20:37:43.480456Z"
    }
   },
   "outputs": [
    {
     "data": {
      "text/html": [
       "<div>\n",
       "<style scoped>\n",
       "    .dataframe tbody tr th:only-of-type {\n",
       "        vertical-align: middle;\n",
       "    }\n",
       "\n",
       "    .dataframe tbody tr th {\n",
       "        vertical-align: top;\n",
       "    }\n",
       "\n",
       "    .dataframe thead th {\n",
       "        text-align: right;\n",
       "    }\n",
       "</style>\n",
       "<table border=\"1\" class=\"dataframe\">\n",
       "  <thead>\n",
       "    <tr style=\"text-align: right;\">\n",
       "      <th></th>\n",
       "      <th>PassengerId</th>\n",
       "      <th>Survived</th>\n",
       "      <th>Pclass</th>\n",
       "      <th>Age</th>\n",
       "      <th>SibSp</th>\n",
       "      <th>Parch</th>\n",
       "      <th>Fare</th>\n",
       "    </tr>\n",
       "  </thead>\n",
       "  <tbody>\n",
       "    <tr>\n",
       "      <th>count</th>\n",
       "      <td>891.000000</td>\n",
       "      <td>891.000000</td>\n",
       "      <td>891.000000</td>\n",
       "      <td>714.000000</td>\n",
       "      <td>891.000000</td>\n",
       "      <td>891.000000</td>\n",
       "      <td>891.000000</td>\n",
       "    </tr>\n",
       "    <tr>\n",
       "      <th>mean</th>\n",
       "      <td>446.000000</td>\n",
       "      <td>0.383838</td>\n",
       "      <td>2.308642</td>\n",
       "      <td>29.699118</td>\n",
       "      <td>0.523008</td>\n",
       "      <td>0.381594</td>\n",
       "      <td>32.204208</td>\n",
       "    </tr>\n",
       "    <tr>\n",
       "      <th>std</th>\n",
       "      <td>257.353842</td>\n",
       "      <td>0.486592</td>\n",
       "      <td>0.836071</td>\n",
       "      <td>14.526497</td>\n",
       "      <td>1.102743</td>\n",
       "      <td>0.806057</td>\n",
       "      <td>49.693429</td>\n",
       "    </tr>\n",
       "    <tr>\n",
       "      <th>min</th>\n",
       "      <td>1.000000</td>\n",
       "      <td>0.000000</td>\n",
       "      <td>1.000000</td>\n",
       "      <td>0.420000</td>\n",
       "      <td>0.000000</td>\n",
       "      <td>0.000000</td>\n",
       "      <td>0.000000</td>\n",
       "    </tr>\n",
       "    <tr>\n",
       "      <th>25%</th>\n",
       "      <td>223.500000</td>\n",
       "      <td>0.000000</td>\n",
       "      <td>2.000000</td>\n",
       "      <td>20.125000</td>\n",
       "      <td>0.000000</td>\n",
       "      <td>0.000000</td>\n",
       "      <td>7.910400</td>\n",
       "    </tr>\n",
       "    <tr>\n",
       "      <th>50%</th>\n",
       "      <td>446.000000</td>\n",
       "      <td>0.000000</td>\n",
       "      <td>3.000000</td>\n",
       "      <td>28.000000</td>\n",
       "      <td>0.000000</td>\n",
       "      <td>0.000000</td>\n",
       "      <td>14.454200</td>\n",
       "    </tr>\n",
       "    <tr>\n",
       "      <th>75%</th>\n",
       "      <td>668.500000</td>\n",
       "      <td>1.000000</td>\n",
       "      <td>3.000000</td>\n",
       "      <td>38.000000</td>\n",
       "      <td>1.000000</td>\n",
       "      <td>0.000000</td>\n",
       "      <td>31.000000</td>\n",
       "    </tr>\n",
       "    <tr>\n",
       "      <th>max</th>\n",
       "      <td>891.000000</td>\n",
       "      <td>1.000000</td>\n",
       "      <td>3.000000</td>\n",
       "      <td>80.000000</td>\n",
       "      <td>8.000000</td>\n",
       "      <td>6.000000</td>\n",
       "      <td>512.329200</td>\n",
       "    </tr>\n",
       "  </tbody>\n",
       "</table>\n",
       "</div>"
      ],
      "text/plain": [
       "       PassengerId    Survived      Pclass         Age       SibSp  \\\n",
       "count   891.000000  891.000000  891.000000  714.000000  891.000000   \n",
       "mean    446.000000    0.383838    2.308642   29.699118    0.523008   \n",
       "std     257.353842    0.486592    0.836071   14.526497    1.102743   \n",
       "min       1.000000    0.000000    1.000000    0.420000    0.000000   \n",
       "25%     223.500000    0.000000    2.000000   20.125000    0.000000   \n",
       "50%     446.000000    0.000000    3.000000   28.000000    0.000000   \n",
       "75%     668.500000    1.000000    3.000000   38.000000    1.000000   \n",
       "max     891.000000    1.000000    3.000000   80.000000    8.000000   \n",
       "\n",
       "            Parch        Fare  \n",
       "count  891.000000  891.000000  \n",
       "mean     0.381594   32.204208  \n",
       "std      0.806057   49.693429  \n",
       "min      0.000000    0.000000  \n",
       "25%      0.000000    7.910400  \n",
       "50%      0.000000   14.454200  \n",
       "75%      0.000000   31.000000  \n",
       "max      6.000000  512.329200  "
      ]
     },
     "execution_count": 4,
     "metadata": {},
     "output_type": "execute_result"
    }
   ],
   "source": [
    "train.describe()"
   ]
  },
  {
   "cell_type": "markdown",
   "metadata": {},
   "source": [
    "Самому старому старику 80 лет. Интересно, он выживет?) 512 максимальное расстояние до выхода (если я правильно понимаб признак Fare) шагов или метров... В принципе, если в панике быстро бежать, то шаг - это как раз метр)"
   ]
  },
  {
   "cell_type": "markdown",
   "metadata": {},
   "source": [
    "**Распределения ещё посмотрим на паре графиков:**"
   ]
  },
  {
   "cell_type": "code",
   "execution_count": 5,
   "metadata": {
    "execution": {
     "iopub.execute_input": "2021-12-16T20:37:43.512803Z",
     "iopub.status.busy": "2021-12-16T20:37:43.512577Z",
     "iopub.status.idle": "2021-12-16T20:37:43.908855Z",
     "shell.execute_reply": "2021-12-16T20:37:43.908248Z",
     "shell.execute_reply.started": "2021-12-16T20:37:43.512775Z"
    }
   },
   "outputs": [
    {
     "data": {
      "image/png": "[encoded data removed]",
      "text/plain": [
       "<Figure size 720x432 with 1 Axes>"
      ]
     },
     "metadata": {
      "needs_background": "light"
     },
     "output_type": "display_data"
    }
   ],
   "source": [
    "train.boxplot(figsize=(10,6))\n",
    "plt.show()"
   ]
  },
  {
   "cell_type": "code",
   "execution_count": 6,
   "metadata": {
    "execution": {
     "iopub.execute_input": "2021-12-16T20:37:43.910577Z",
     "iopub.status.busy": "2021-12-16T20:37:43.910167Z",
     "iopub.status.idle": "2021-12-16T20:37:44.689186Z",
     "shell.execute_reply": "2021-12-16T20:37:44.688376Z",
     "shell.execute_reply.started": "2021-12-16T20:37:43.910546Z"
    }
   },
   "outputs": [
    {
     "name": "stderr",
     "output_type": "stream",
     "text": [
      "/home/dgv/.local/lib/python3.7/site-packages/pandas/plotting/_matplotlib/tools.py:331: MatplotlibDeprecationWarning: \n",
      "The is_first_col function was deprecated in Matplotlib 3.4 and will be removed two minor releases later. Use ax.get_subplotspec().is_first_col() instead.\n",
      "  if ax.is_first_col():\n"
     ]
    },
    {
     "data": {
      "image/png": "[encoded data removed]",
      "text/plain": [
       "<Figure size 432x288 with 9 Axes>"
      ]
     },
     "metadata": {
      "needs_background": "light"
     },
     "output_type": "display_data"
    }
   ],
   "source": [
    "train.hist()\n",
    "plt.show()"
   ]
  },
  {
   "cell_type": "code",
   "execution_count": 7,
   "metadata": {
    "execution": {
     "iopub.execute_input": "2021-12-16T20:37:44.690529Z",
     "iopub.status.busy": "2021-12-16T20:37:44.690300Z",
     "iopub.status.idle": "2021-12-16T20:37:45.358345Z",
     "shell.execute_reply": "2021-12-16T20:37:45.357526Z",
     "shell.execute_reply.started": "2021-12-16T20:37:44.690501Z"
    }
   },
   "outputs": [
    {
     "data": {
      "image/png": "[encoded data removed]",
      "text/plain": [
       "<Figure size 432x288 with 6 Axes>"
      ]
     },
     "metadata": {
      "needs_background": "light"
     },
     "output_type": "display_data"
    }
   ],
   "source": [
    "test.hist()\n",
    "plt.show()"
   ]
  },
  {
   "cell_type": "markdown",
   "metadata": {},
   "source": [
    "Ситуация, конечно, плохая с этим краблём получилась, труппов больше, чем выживших примерно в 2 раза, но думаю, что для обучения этого хватит и масштабирование признаков не понадобится.\n",
    "\n",
    "Больше всего ехало бедняков 3-м классом, молодых, возрастом 20-30 лет в среднем. Вообще возраст стандартно распределён, на корабле,как и в жизни, так сказать )"
   ]
  },
  {
   "cell_type": "markdown",
   "metadata": {},
   "source": [
    "Посмотрим на билеты:\n",
    "\n",
    "- Некоторые билеты повторяются, оставим столбец, как признак"
   ]
  },
  {
   "cell_type": "code",
   "execution_count": 8,
   "metadata": {
    "execution": {
     "iopub.execute_input": "2021-12-16T20:37:45.359724Z",
     "iopub.status.busy": "2021-12-16T20:37:45.359495Z",
     "iopub.status.idle": "2021-12-16T20:37:45.369331Z",
     "shell.execute_reply": "2021-12-16T20:37:45.368330Z",
     "shell.execute_reply.started": "2021-12-16T20:37:45.359695Z"
    }
   },
   "outputs": [
    {
     "data": {
      "text/plain": [
       "CA. 2343           7\n",
       "347082             7\n",
       "1601               7\n",
       "347088             6\n",
       "3101295            6\n",
       "                  ..\n",
       "350026             1\n",
       "345767             1\n",
       "SOTON/OQ 392090    1\n",
       "364512             1\n",
       "113059             1\n",
       "Name: Ticket, Length: 681, dtype: int64"
      ]
     },
     "execution_count": 8,
     "metadata": {},
     "output_type": "execute_result"
    }
   ],
   "source": [
    "train['Ticket'].value_counts()"
   ]
  },
  {
   "cell_type": "markdown",
   "metadata": {},
   "source": [
    "Там в кабинах сразу наны в таблице выдны, изучим столбец:"
   ]
  },
  {
   "cell_type": "code",
   "execution_count": 9,
   "metadata": {
    "execution": {
     "iopub.execute_input": "2021-12-16T20:37:45.370768Z",
     "iopub.status.busy": "2021-12-16T20:37:45.370527Z",
     "iopub.status.idle": "2021-12-16T20:37:45.380543Z",
     "shell.execute_reply": "2021-12-16T20:37:45.379732Z",
     "shell.execute_reply.started": "2021-12-16T20:37:45.370742Z"
    }
   },
   "outputs": [
    {
     "data": {
      "text/plain": [
       "C23 C25 C27    4\n",
       "G6             4\n",
       "B96 B98        4\n",
       "C22 C26        3\n",
       "F2             3\n",
       "              ..\n",
       "B50            1\n",
       "C62 C64        1\n",
       "F G63          1\n",
       "B86            1\n",
       "C85            1\n",
       "Name: Cabin, Length: 147, dtype: int64"
      ]
     },
     "execution_count": 9,
     "metadata": {},
     "output_type": "execute_result"
    }
   ],
   "source": [
    "train['Cabin'].value_counts()"
   ]
  },
  {
   "cell_type": "markdown",
   "metadata": {},
   "source": [
    "Лучше посмотреть на это разнообразие через уникальные значения:"
   ]
  },
  {
   "cell_type": "code",
   "execution_count": 10,
   "metadata": {
    "execution": {
     "iopub.execute_input": "2021-12-16T20:37:45.382560Z",
     "iopub.status.busy": "2021-12-16T20:37:45.381812Z",
     "iopub.status.idle": "2021-12-16T20:37:45.391936Z",
     "shell.execute_reply": "2021-12-16T20:37:45.391249Z",
     "shell.execute_reply.started": "2021-12-16T20:37:45.382514Z"
    }
   },
   "outputs": [
    {
     "data": {
      "text/plain": [
       "array([nan, 'C85', 'C123', 'E46', 'G6', 'C103', 'D56', 'A6',\n",
       "       'C23 C25 C27', 'B78', 'D33', 'B30', 'C52', 'B28', 'C83', 'F33',\n",
       "       'F G73', 'E31', 'A5', 'D10 D12', 'D26', 'C110', 'B58 B60', 'E101',\n",
       "       'F E69', 'D47', 'B86', 'F2', 'C2', 'E33', 'B19', 'A7', 'C49', 'F4',\n",
       "       'A32', 'B4', 'B80', 'A31', 'D36', 'D15', 'C93', 'C78', 'D35',\n",
       "       'C87', 'B77', 'E67', 'B94', 'C125', 'C99', 'C118', 'D7', 'A19',\n",
       "       'B49', 'D', 'C22 C26', 'C106', 'C65', 'E36', 'C54',\n",
       "       'B57 B59 B63 B66', 'C7', 'E34', 'C32', 'B18', 'C124', 'C91', 'E40',\n",
       "       'T', 'C128', 'D37', 'B35', 'E50', 'C82', 'B96 B98', 'E10', 'E44',\n",
       "       'A34', 'C104', 'C111', 'C92', 'E38', 'D21', 'E12', 'E63', 'A14',\n",
       "       'B37', 'C30', 'D20', 'B79', 'E25', 'D46', 'B73', 'C95', 'B38',\n",
       "       'B39', 'B22', 'C86', 'C70', 'A16', 'C101', 'C68', 'A10', 'E68',\n",
       "       'B41', 'A20', 'D19', 'D50', 'D9', 'A23', 'B50', 'A26', 'D48',\n",
       "       'E58', 'C126', 'B71', 'B51 B53 B55', 'D49', 'B5', 'B20', 'F G63',\n",
       "       'C62 C64', 'E24', 'C90', 'C45', 'E8', 'B101', 'D45', 'C46', 'D30',\n",
       "       'E121', 'D11', 'E77', 'F38', 'B3', 'D6', 'B82 B84', 'D17', 'A36',\n",
       "       'B102', 'B69', 'E49', 'C47', 'D28', 'E17', 'A24', 'C50', 'B42',\n",
       "       'C148'], dtype=object)"
      ]
     },
     "execution_count": 10,
     "metadata": {},
     "output_type": "execute_result"
    }
   ],
   "source": [
    "train['Cabin'].unique()"
   ]
  },
  {
   "cell_type": "markdown",
   "metadata": {},
   "source": [
    "Похоже на классовое распределение кабин, можно применить классификацию: A, B, C, D, E, G, F и T.\n",
    "\n",
    "Но для начала уберём пропуски, заменив их на другую классификацию (может это какие нибудь кабины для нищих или что-то в этом роде."
   ]
  },
  {
   "cell_type": "code",
   "execution_count": 11,
   "metadata": {
    "execution": {
     "iopub.execute_input": "2021-12-16T20:37:45.393845Z",
     "iopub.status.busy": "2021-12-16T20:37:45.393500Z",
     "iopub.status.idle": "2021-12-16T20:37:45.404740Z",
     "shell.execute_reply": "2021-12-16T20:37:45.403877Z",
     "shell.execute_reply.started": "2021-12-16T20:37:45.393804Z"
    }
   },
   "outputs": [],
   "source": [
    "train['Cabin'] = train['Cabin'].fillna('other')"
   ]
  },
  {
   "cell_type": "code",
   "execution_count": 12,
   "metadata": {
    "execution": {
     "iopub.execute_input": "2021-12-16T20:37:45.406885Z",
     "iopub.status.busy": "2021-12-16T20:37:45.406288Z",
     "iopub.status.idle": "2021-12-16T20:37:45.428991Z",
     "shell.execute_reply": "2021-12-16T20:37:45.428158Z",
     "shell.execute_reply.started": "2021-12-16T20:37:45.406819Z"
    }
   },
   "outputs": [
    {
     "data": {
      "text/html": [
       "<div>\n",
       "<style scoped>\n",
       "    .dataframe tbody tr th:only-of-type {\n",
       "        vertical-align: middle;\n",
       "    }\n",
       "\n",
       "    .dataframe tbody tr th {\n",
       "        vertical-align: top;\n",
       "    }\n",
       "\n",
       "    .dataframe thead th {\n",
       "        text-align: right;\n",
       "    }\n",
       "</style>\n",
       "<table border=\"1\" class=\"dataframe\">\n",
       "  <thead>\n",
       "    <tr style=\"text-align: right;\">\n",
       "      <th></th>\n",
       "      <th>PassengerId</th>\n",
       "      <th>Survived</th>\n",
       "      <th>Pclass</th>\n",
       "      <th>Name</th>\n",
       "      <th>Sex</th>\n",
       "      <th>Age</th>\n",
       "      <th>SibSp</th>\n",
       "      <th>Parch</th>\n",
       "      <th>Ticket</th>\n",
       "      <th>Fare</th>\n",
       "      <th>Cabin</th>\n",
       "      <th>Embarked</th>\n",
       "    </tr>\n",
       "  </thead>\n",
       "  <tbody>\n",
       "    <tr>\n",
       "      <th>0</th>\n",
       "      <td>1</td>\n",
       "      <td>0</td>\n",
       "      <td>3</td>\n",
       "      <td>Braund, Mr. Owen Harris</td>\n",
       "      <td>male</td>\n",
       "      <td>22.0</td>\n",
       "      <td>1</td>\n",
       "      <td>0</td>\n",
       "      <td>A/5 21171</td>\n",
       "      <td>7.2500</td>\n",
       "      <td>other</td>\n",
       "      <td>S</td>\n",
       "    </tr>\n",
       "    <tr>\n",
       "      <th>1</th>\n",
       "      <td>2</td>\n",
       "      <td>1</td>\n",
       "      <td>1</td>\n",
       "      <td>Cumings, Mrs. John Bradley (Florence Briggs Th...</td>\n",
       "      <td>female</td>\n",
       "      <td>38.0</td>\n",
       "      <td>1</td>\n",
       "      <td>0</td>\n",
       "      <td>PC 17599</td>\n",
       "      <td>71.2833</td>\n",
       "      <td>C85</td>\n",
       "      <td>C</td>\n",
       "    </tr>\n",
       "    <tr>\n",
       "      <th>2</th>\n",
       "      <td>3</td>\n",
       "      <td>1</td>\n",
       "      <td>3</td>\n",
       "      <td>Heikkinen, Miss. Laina</td>\n",
       "      <td>female</td>\n",
       "      <td>26.0</td>\n",
       "      <td>0</td>\n",
       "      <td>0</td>\n",
       "      <td>STON/O2. 3101282</td>\n",
       "      <td>7.9250</td>\n",
       "      <td>other</td>\n",
       "      <td>S</td>\n",
       "    </tr>\n",
       "    <tr>\n",
       "      <th>3</th>\n",
       "      <td>4</td>\n",
       "      <td>1</td>\n",
       "      <td>1</td>\n",
       "      <td>Futrelle, Mrs. Jacques Heath (Lily May Peel)</td>\n",
       "      <td>female</td>\n",
       "      <td>35.0</td>\n",
       "      <td>1</td>\n",
       "      <td>0</td>\n",
       "      <td>113803</td>\n",
       "      <td>53.1000</td>\n",
       "      <td>C123</td>\n",
       "      <td>S</td>\n",
       "    </tr>\n",
       "    <tr>\n",
       "      <th>4</th>\n",
       "      <td>5</td>\n",
       "      <td>0</td>\n",
       "      <td>3</td>\n",
       "      <td>Allen, Mr. William Henry</td>\n",
       "      <td>male</td>\n",
       "      <td>35.0</td>\n",
       "      <td>0</td>\n",
       "      <td>0</td>\n",
       "      <td>373450</td>\n",
       "      <td>8.0500</td>\n",
       "      <td>other</td>\n",
       "      <td>S</td>\n",
       "    </tr>\n",
       "  </tbody>\n",
       "</table>\n",
       "</div>"
      ],
      "text/plain": [
       "   PassengerId  Survived  Pclass  \\\n",
       "0            1         0       3   \n",
       "1            2         1       1   \n",
       "2            3         1       3   \n",
       "3            4         1       1   \n",
       "4            5         0       3   \n",
       "\n",
       "                                                Name     Sex   Age  SibSp  \\\n",
       "0                            Braund, Mr. Owen Harris    male  22.0      1   \n",
       "1  Cumings, Mrs. John Bradley (Florence Briggs Th...  female  38.0      1   \n",
       "2                             Heikkinen, Miss. Laina  female  26.0      0   \n",
       "3       Futrelle, Mrs. Jacques Heath (Lily May Peel)  female  35.0      1   \n",
       "4                           Allen, Mr. William Henry    male  35.0      0   \n",
       "\n",
       "   Parch            Ticket     Fare  Cabin Embarked  \n",
       "0      0         A/5 21171   7.2500  other        S  \n",
       "1      0          PC 17599  71.2833    C85        C  \n",
       "2      0  STON/O2. 3101282   7.9250  other        S  \n",
       "3      0            113803  53.1000   C123        S  \n",
       "4      0            373450   8.0500  other        S  "
      ]
     },
     "execution_count": 12,
     "metadata": {},
     "output_type": "execute_result"
    }
   ],
   "source": [
    "train.head()"
   ]
  },
  {
   "cell_type": "markdown",
   "metadata": {},
   "source": [
    "Добавим признак:"
   ]
  },
  {
   "cell_type": "code",
   "execution_count": 13,
   "metadata": {
    "execution": {
     "iopub.execute_input": "2021-12-16T20:37:45.433224Z",
     "iopub.status.busy": "2021-12-16T20:37:45.432548Z",
     "iopub.status.idle": "2021-12-16T20:37:45.483056Z",
     "shell.execute_reply": "2021-12-16T20:37:45.482134Z",
     "shell.execute_reply.started": "2021-12-16T20:37:45.433184Z"
    }
   },
   "outputs": [],
   "source": [
    "def cab_satus(row):\n",
    "    if 'A' in row['Cabin']:\n",
    "        return 'A'\n",
    "    elif 'B' in row['Cabin']:\n",
    "        return 'B'\n",
    "    elif 'C' in row['Cabin']:\n",
    "        return 'C'\n",
    "    elif 'D' in row['Cabin']:\n",
    "        return 'D'\n",
    "    elif 'E' in row['Cabin']:\n",
    "        return 'E'\n",
    "    elif 'F' in row['Cabin']:\n",
    "        return 'F'\n",
    "    elif 'G' in row['Cabin']:\n",
    "        return 'G'\n",
    "    elif 'T' in row['Cabin']:\n",
    "        return 'T'\n",
    "    else:\n",
    "        return 'other'\n",
    "    \n",
    "train['Cabin_stat'] = train.apply(cab_satus, axis=1)"
   ]
  },
  {
   "cell_type": "code",
   "execution_count": 14,
   "metadata": {
    "execution": {
     "iopub.execute_input": "2021-12-16T20:37:45.484465Z",
     "iopub.status.busy": "2021-12-16T20:37:45.484227Z",
     "iopub.status.idle": "2021-12-16T20:37:45.491260Z",
     "shell.execute_reply": "2021-12-16T20:37:45.490477Z",
     "shell.execute_reply.started": "2021-12-16T20:37:45.484437Z"
    }
   },
   "outputs": [
    {
     "data": {
      "text/plain": [
       "array(['other', 'C', 'E', 'G', 'D', 'A', 'B', 'F', 'T'], dtype=object)"
      ]
     },
     "execution_count": 14,
     "metadata": {},
     "output_type": "execute_result"
    }
   ],
   "source": [
    "train['Cabin_stat'].unique()"
   ]
  },
  {
   "cell_type": "markdown",
   "metadata": {},
   "source": [
    "И в тестовую сразу добавим, заодно наны из её кабин уберём:"
   ]
  },
  {
   "cell_type": "code",
   "execution_count": 15,
   "metadata": {
    "execution": {
     "iopub.execute_input": "2021-12-16T20:37:45.492887Z",
     "iopub.status.busy": "2021-12-16T20:37:45.492506Z",
     "iopub.status.idle": "2021-12-16T20:37:45.504679Z",
     "shell.execute_reply": "2021-12-16T20:37:45.503750Z",
     "shell.execute_reply.started": "2021-12-16T20:37:45.492856Z"
    }
   },
   "outputs": [
    {
     "data": {
      "text/plain": [
       "array([nan, 'B45', 'E31', 'B57 B59 B63 B66', 'B36', 'A21', 'C78', 'D34',\n",
       "       'D19', 'A9', 'D15', 'C31', 'C23 C25 C27', 'F G63', 'B61', 'C53',\n",
       "       'D43', 'C130', 'C132', 'C101', 'C55 C57', 'B71', 'C46', 'C116',\n",
       "       'F', 'A29', 'G6', 'C6', 'C28', 'C51', 'E46', 'C54', 'C97', 'D22',\n",
       "       'B10', 'F4', 'E45', 'E52', 'D30', 'B58 B60', 'E34', 'C62 C64',\n",
       "       'A11', 'B11', 'C80', 'F33', 'C85', 'D37', 'C86', 'D21', 'C89',\n",
       "       'F E46', 'A34', 'D', 'B26', 'C22 C26', 'B69', 'C32', 'B78',\n",
       "       'F E57', 'F2', 'A18', 'C106', 'B51 B53 B55', 'D10 D12', 'E60',\n",
       "       'E50', 'E39 E41', 'B52 B54 B56', 'C39', 'B24', 'D28', 'B41', 'C7',\n",
       "       'D40', 'D38', 'C105'], dtype=object)"
      ]
     },
     "execution_count": 15,
     "metadata": {},
     "output_type": "execute_result"
    }
   ],
   "source": [
    "test['Cabin'].unique()"
   ]
  },
  {
   "cell_type": "code",
   "execution_count": 16,
   "metadata": {
    "execution": {
     "iopub.execute_input": "2021-12-16T20:37:45.506922Z",
     "iopub.status.busy": "2021-12-16T20:37:45.506388Z",
     "iopub.status.idle": "2021-12-16T20:37:45.515345Z",
     "shell.execute_reply": "2021-12-16T20:37:45.514553Z",
     "shell.execute_reply.started": "2021-12-16T20:37:45.506878Z"
    }
   },
   "outputs": [],
   "source": [
    "test['Cabin'] = test['Cabin'].fillna('other')"
   ]
  },
  {
   "cell_type": "code",
   "execution_count": 17,
   "metadata": {
    "execution": {
     "iopub.execute_input": "2021-12-16T20:37:45.517111Z",
     "iopub.status.busy": "2021-12-16T20:37:45.516752Z",
     "iopub.status.idle": "2021-12-16T20:37:45.550048Z",
     "shell.execute_reply": "2021-12-16T20:37:45.549200Z",
     "shell.execute_reply.started": "2021-12-16T20:37:45.517067Z"
    }
   },
   "outputs": [
    {
     "data": {
      "text/plain": [
       "array(['other', 'B', 'E', 'A', 'C', 'D', 'F', 'G'], dtype=object)"
      ]
     },
     "execution_count": 17,
     "metadata": {},
     "output_type": "execute_result"
    }
   ],
   "source": [
    "\n",
    "test['Cabin_stat'] = test.apply(cab_satus, axis=1)\n",
    "test['Cabin_stat'].unique()"
   ]
  },
  {
   "cell_type": "markdown",
   "metadata": {},
   "source": [
    "Посмотрим, чё там ещё с пропусками:"
   ]
  },
  {
   "cell_type": "code",
   "execution_count": 18,
   "metadata": {
    "execution": {
     "iopub.execute_input": "2021-12-16T20:37:45.551582Z",
     "iopub.status.busy": "2021-12-16T20:37:45.551344Z",
     "iopub.status.idle": "2021-12-16T20:37:45.560609Z",
     "shell.execute_reply": "2021-12-16T20:37:45.559631Z",
     "shell.execute_reply.started": "2021-12-16T20:37:45.551552Z"
    }
   },
   "outputs": [
    {
     "data": {
      "text/plain": [
       "PassengerId      0\n",
       "Survived         0\n",
       "Pclass           0\n",
       "Name             0\n",
       "Sex              0\n",
       "Age            177\n",
       "SibSp            0\n",
       "Parch            0\n",
       "Ticket           0\n",
       "Fare             0\n",
       "Cabin            0\n",
       "Embarked         2\n",
       "Cabin_stat       0\n",
       "dtype: int64"
      ]
     },
     "execution_count": 18,
     "metadata": {},
     "output_type": "execute_result"
    }
   ],
   "source": [
    "train.isna().sum()"
   ]
  },
  {
   "cell_type": "code",
   "execution_count": 19,
   "metadata": {
    "execution": {
     "iopub.execute_input": "2021-12-16T20:37:45.561924Z",
     "iopub.status.busy": "2021-12-16T20:37:45.561716Z",
     "iopub.status.idle": "2021-12-16T20:37:45.577920Z",
     "shell.execute_reply": "2021-12-16T20:37:45.577007Z",
     "shell.execute_reply.started": "2021-12-16T20:37:45.561896Z"
    }
   },
   "outputs": [
    {
     "data": {
      "text/plain": [
       "PassengerId     0\n",
       "Pclass          0\n",
       "Name            0\n",
       "Sex             0\n",
       "Age            86\n",
       "SibSp           0\n",
       "Parch           0\n",
       "Ticket          0\n",
       "Fare            1\n",
       "Cabin           0\n",
       "Embarked        0\n",
       "Cabin_stat      0\n",
       "dtype: int64"
      ]
     },
     "execution_count": 19,
     "metadata": {},
     "output_type": "execute_result"
    }
   ],
   "source": [
    "test.isna().sum()"
   ]
  },
  {
   "cell_type": "code",
   "execution_count": 20,
   "metadata": {
    "execution": {
     "iopub.execute_input": "2021-12-16T20:37:45.579739Z",
     "iopub.status.busy": "2021-12-16T20:37:45.579430Z",
     "iopub.status.idle": "2021-12-16T20:37:45.589892Z",
     "shell.execute_reply": "2021-12-16T20:37:45.589059Z",
     "shell.execute_reply.started": "2021-12-16T20:37:45.579709Z"
    }
   },
   "outputs": [
    {
     "data": {
      "text/plain": [
       "array([22.  , 38.  , 26.  , 35.  ,   nan, 54.  ,  2.  , 27.  , 14.  ,\n",
       "        4.  , 58.  , 20.  , 39.  , 55.  , 31.  , 34.  , 15.  , 28.  ,\n",
       "        8.  , 19.  , 40.  , 66.  , 42.  , 21.  , 18.  ,  3.  ,  7.  ,\n",
       "       49.  , 29.  , 65.  , 28.5 ,  5.  , 11.  , 45.  , 17.  , 32.  ,\n",
       "       16.  , 25.  ,  0.83, 30.  , 33.  , 23.  , 24.  , 46.  , 59.  ,\n",
       "       71.  , 37.  , 47.  , 14.5 , 70.5 , 32.5 , 12.  ,  9.  , 36.5 ,\n",
       "       51.  , 55.5 , 40.5 , 44.  ,  1.  , 61.  , 56.  , 50.  , 36.  ,\n",
       "       45.5 , 20.5 , 62.  , 41.  , 52.  , 63.  , 23.5 ,  0.92, 43.  ,\n",
       "       60.  , 10.  , 64.  , 13.  , 48.  ,  0.75, 53.  , 57.  , 80.  ,\n",
       "       70.  , 24.5 ,  6.  ,  0.67, 30.5 ,  0.42, 34.5 , 74.  ])"
      ]
     },
     "execution_count": 20,
     "metadata": {},
     "output_type": "execute_result"
    }
   ],
   "source": [
    "train['Age'].unique()"
   ]
  },
  {
   "cell_type": "markdown",
   "metadata": {},
   "source": [
    "Возраст, мы помним, распределён нормально, поэтому пропуски заполним средним значением."
   ]
  },
  {
   "cell_type": "code",
   "execution_count": 21,
   "metadata": {
    "execution": {
     "iopub.execute_input": "2021-12-16T20:37:45.592038Z",
     "iopub.status.busy": "2021-12-16T20:37:45.591159Z",
     "iopub.status.idle": "2021-12-16T20:37:45.600549Z",
     "shell.execute_reply": "2021-12-16T20:37:45.599755Z",
     "shell.execute_reply.started": "2021-12-16T20:37:45.591992Z"
    }
   },
   "outputs": [],
   "source": [
    "mean_age = train['Age'].mean()"
   ]
  },
  {
   "cell_type": "code",
   "execution_count": 22,
   "metadata": {
    "execution": {
     "iopub.execute_input": "2021-12-16T20:37:45.602260Z",
     "iopub.status.busy": "2021-12-16T20:37:45.601864Z",
     "iopub.status.idle": "2021-12-16T20:37:45.620101Z",
     "shell.execute_reply": "2021-12-16T20:37:45.619157Z",
     "shell.execute_reply.started": "2021-12-16T20:37:45.602228Z"
    }
   },
   "outputs": [
    {
     "data": {
      "text/plain": [
       "PassengerId    0\n",
       "Survived       0\n",
       "Pclass         0\n",
       "Name           0\n",
       "Sex            0\n",
       "Age            0\n",
       "SibSp          0\n",
       "Parch          0\n",
       "Ticket         0\n",
       "Fare           0\n",
       "Cabin          0\n",
       "Embarked       2\n",
       "Cabin_stat     0\n",
       "dtype: int64"
      ]
     },
     "execution_count": 22,
     "metadata": {},
     "output_type": "execute_result"
    }
   ],
   "source": [
    "train['Age'] = train['Age'].fillna(mean_age)\n",
    "train.isna().sum()"
   ]
  },
  {
   "cell_type": "code",
   "execution_count": 23,
   "metadata": {
    "execution": {
     "iopub.execute_input": "2021-12-16T20:37:45.622011Z",
     "iopub.status.busy": "2021-12-16T20:37:45.621521Z",
     "iopub.status.idle": "2021-12-16T20:37:45.637722Z",
     "shell.execute_reply": "2021-12-16T20:37:45.637140Z",
     "shell.execute_reply.started": "2021-12-16T20:37:45.621963Z"
    }
   },
   "outputs": [
    {
     "data": {
      "text/plain": [
       "array([22.        , 38.        , 26.        , 35.        , 29.69911765,\n",
       "       54.        ,  2.        , 27.        , 14.        ,  4.        ,\n",
       "       58.        , 20.        , 39.        , 55.        , 31.        ,\n",
       "       34.        , 15.        , 28.        ,  8.        , 19.        ,\n",
       "       40.        , 66.        , 42.        , 21.        , 18.        ,\n",
       "        3.        ,  7.        , 49.        , 29.        , 65.        ,\n",
       "       28.5       ,  5.        , 11.        , 45.        , 17.        ,\n",
       "       32.        , 16.        , 25.        ,  0.83      , 30.        ,\n",
       "       33.        , 23.        , 24.        , 46.        , 59.        ,\n",
       "       71.        , 37.        , 47.        , 14.5       , 70.5       ,\n",
       "       32.5       , 12.        ,  9.        , 36.5       , 51.        ,\n",
       "       55.5       , 40.5       , 44.        ,  1.        , 61.        ,\n",
       "       56.        , 50.        , 36.        , 45.5       , 20.5       ,\n",
       "       62.        , 41.        , 52.        , 63.        , 23.5       ,\n",
       "        0.92      , 43.        , 60.        , 10.        , 64.        ,\n",
       "       13.        , 48.        ,  0.75      , 53.        , 57.        ,\n",
       "       80.        , 70.        , 24.5       ,  6.        ,  0.67      ,\n",
       "       30.5       ,  0.42      , 34.5       , 74.        ])"
      ]
     },
     "execution_count": 23,
     "metadata": {},
     "output_type": "execute_result"
    }
   ],
   "source": [
    "train['Age'].unique()"
   ]
  },
  {
   "cell_type": "code",
   "execution_count": 24,
   "metadata": {
    "execution": {
     "iopub.execute_input": "2021-12-16T20:37:45.639520Z",
     "iopub.status.busy": "2021-12-16T20:37:45.639151Z",
     "iopub.status.idle": "2021-12-16T20:37:45.652212Z",
     "shell.execute_reply": "2021-12-16T20:37:45.651581Z",
     "shell.execute_reply.started": "2021-12-16T20:37:45.639485Z"
    }
   },
   "outputs": [
    {
     "data": {
      "text/plain": [
       "PassengerId    0\n",
       "Pclass         0\n",
       "Name           0\n",
       "Sex            0\n",
       "Age            0\n",
       "SibSp          0\n",
       "Parch          0\n",
       "Ticket         0\n",
       "Fare           1\n",
       "Cabin          0\n",
       "Embarked       0\n",
       "Cabin_stat     0\n",
       "dtype: int64"
      ]
     },
     "execution_count": 24,
     "metadata": {},
     "output_type": "execute_result"
    }
   ],
   "source": [
    "test['Age'] = test['Age'].fillna(mean_age)\n",
    "test.isna().sum()"
   ]
  },
  {
   "cell_type": "markdown",
   "metadata": {},
   "source": [
    "Ещё возраст лучше округлить"
   ]
  },
  {
   "cell_type": "code",
   "execution_count": 25,
   "metadata": {
    "execution": {
     "iopub.execute_input": "2021-12-16T20:37:45.654004Z",
     "iopub.status.busy": "2021-12-16T20:37:45.653224Z",
     "iopub.status.idle": "2021-12-16T20:37:45.661057Z",
     "shell.execute_reply": "2021-12-16T20:37:45.660354Z",
     "shell.execute_reply.started": "2021-12-16T20:37:45.653965Z"
    }
   },
   "outputs": [],
   "source": [
    "train['Age'] = train['Age'].astype('uint8')\n",
    "test['Age'] = test['Age'].astype('uint8')"
   ]
  },
  {
   "cell_type": "markdown",
   "metadata": {},
   "source": [
    "Не особо вникла, что это за признак, но 1 и 2 пропуска можно просто удалить"
   ]
  },
  {
   "cell_type": "code",
   "execution_count": 26,
   "metadata": {
    "execution": {
     "iopub.execute_input": "2021-12-16T20:37:45.663343Z",
     "iopub.status.busy": "2021-12-16T20:37:45.662436Z",
     "iopub.status.idle": "2021-12-16T20:37:45.674118Z",
     "shell.execute_reply": "2021-12-16T20:37:45.673396Z",
     "shell.execute_reply.started": "2021-12-16T20:37:45.663296Z"
    }
   },
   "outputs": [
    {
     "data": {
      "text/plain": [
       "S    644\n",
       "C    168\n",
       "Q     77\n",
       "Name: Embarked, dtype: int64"
      ]
     },
     "execution_count": 26,
     "metadata": {},
     "output_type": "execute_result"
    }
   ],
   "source": [
    "train['Embarked'].value_counts()"
   ]
  },
  {
   "cell_type": "code",
   "execution_count": 27,
   "metadata": {
    "execution": {
     "iopub.execute_input": "2021-12-16T20:37:45.675816Z",
     "iopub.status.busy": "2021-12-16T20:37:45.675222Z",
     "iopub.status.idle": "2021-12-16T20:37:45.691979Z",
     "shell.execute_reply": "2021-12-16T20:37:45.691013Z",
     "shell.execute_reply.started": "2021-12-16T20:37:45.675781Z"
    }
   },
   "outputs": [
    {
     "data": {
      "text/plain": [
       "PassengerId    0\n",
       "Survived       0\n",
       "Pclass         0\n",
       "Name           0\n",
       "Sex            0\n",
       "Age            0\n",
       "SibSp          0\n",
       "Parch          0\n",
       "Ticket         0\n",
       "Fare           0\n",
       "Cabin          0\n",
       "Embarked       0\n",
       "Cabin_stat     0\n",
       "dtype: int64"
      ]
     },
     "execution_count": 27,
     "metadata": {},
     "output_type": "execute_result"
    }
   ],
   "source": [
    "train = train.dropna()\n",
    "train.isna().sum()"
   ]
  },
  {
   "cell_type": "markdown",
   "metadata": {},
   "source": [
    "Видимо удалённость от выхода:"
   ]
  },
  {
   "cell_type": "code",
   "execution_count": 28,
   "metadata": {
    "execution": {
     "iopub.execute_input": "2021-12-16T20:37:45.693838Z",
     "iopub.status.busy": "2021-12-16T20:37:45.693351Z",
     "iopub.status.idle": "2021-12-16T20:37:45.702943Z",
     "shell.execute_reply": "2021-12-16T20:37:45.702143Z",
     "shell.execute_reply.started": "2021-12-16T20:37:45.693789Z"
    }
   },
   "outputs": [
    {
     "data": {
      "text/plain": [
       "7.7500     21\n",
       "26.0000    19\n",
       "8.0500     17\n",
       "13.0000    17\n",
       "7.8958     11\n",
       "           ..\n",
       "9.3250      1\n",
       "14.4583     1\n",
       "15.0333     1\n",
       "25.4667     1\n",
       "21.0750     1\n",
       "Name: Fare, Length: 169, dtype: int64"
      ]
     },
     "execution_count": 28,
     "metadata": {},
     "output_type": "execute_result"
    }
   ],
   "source": [
    "test['Fare'].value_counts()"
   ]
  },
  {
   "cell_type": "code",
   "execution_count": 29,
   "metadata": {
    "execution": {
     "iopub.execute_input": "2021-12-16T20:37:45.705108Z",
     "iopub.status.busy": "2021-12-16T20:37:45.704499Z",
     "iopub.status.idle": "2021-12-16T20:37:45.721630Z",
     "shell.execute_reply": "2021-12-16T20:37:45.720773Z",
     "shell.execute_reply.started": "2021-12-16T20:37:45.705030Z"
    }
   },
   "outputs": [
    {
     "data": {
      "text/plain": [
       "PassengerId    0\n",
       "Pclass         0\n",
       "Name           0\n",
       "Sex            0\n",
       "Age            0\n",
       "SibSp          0\n",
       "Parch          0\n",
       "Ticket         0\n",
       "Fare           0\n",
       "Cabin          0\n",
       "Embarked       0\n",
       "Cabin_stat     0\n",
       "dtype: int64"
      ]
     },
     "execution_count": 29,
     "metadata": {},
     "output_type": "execute_result"
    }
   ],
   "source": [
    "test = test.dropna()\n",
    "test.isna().sum()"
   ]
  },
  {
   "cell_type": "markdown",
   "metadata": {},
   "source": [
    "Вынесем уникальные номера пассажиров в индексы таблиц:"
   ]
  },
  {
   "cell_type": "code",
   "execution_count": 30,
   "metadata": {
    "execution": {
     "iopub.execute_input": "2021-12-16T20:37:45.723408Z",
     "iopub.status.busy": "2021-12-16T20:37:45.723182Z",
     "iopub.status.idle": "2021-12-16T20:37:45.741728Z",
     "shell.execute_reply": "2021-12-16T20:37:45.740848Z",
     "shell.execute_reply.started": "2021-12-16T20:37:45.723381Z"
    }
   },
   "outputs": [
    {
     "data": {
      "text/html": [
       "<div>\n",
       "<style scoped>\n",
       "    .dataframe tbody tr th:only-of-type {\n",
       "        vertical-align: middle;\n",
       "    }\n",
       "\n",
       "    .dataframe tbody tr th {\n",
       "        vertical-align: top;\n",
       "    }\n",
       "\n",
       "    .dataframe thead th {\n",
       "        text-align: right;\n",
       "    }\n",
       "</style>\n",
       "<table border=\"1\" class=\"dataframe\">\n",
       "  <thead>\n",
       "    <tr style=\"text-align: right;\">\n",
       "      <th></th>\n",
       "      <th>Survived</th>\n",
       "      <th>Pclass</th>\n",
       "      <th>Name</th>\n",
       "      <th>Sex</th>\n",
       "      <th>Age</th>\n",
       "      <th>SibSp</th>\n",
       "      <th>Parch</th>\n",
       "      <th>Ticket</th>\n",
       "      <th>Fare</th>\n",
       "      <th>Cabin</th>\n",
       "      <th>Embarked</th>\n",
       "      <th>Cabin_stat</th>\n",
       "    </tr>\n",
       "    <tr>\n",
       "      <th>PassengerId</th>\n",
       "      <th></th>\n",
       "      <th></th>\n",
       "      <th></th>\n",
       "      <th></th>\n",
       "      <th></th>\n",
       "      <th></th>\n",
       "      <th></th>\n",
       "      <th></th>\n",
       "      <th></th>\n",
       "      <th></th>\n",
       "      <th></th>\n",
       "      <th></th>\n",
       "    </tr>\n",
       "  </thead>\n",
       "  <tbody>\n",
       "    <tr>\n",
       "      <th>1</th>\n",
       "      <td>0</td>\n",
       "      <td>3</td>\n",
       "      <td>Braund, Mr. Owen Harris</td>\n",
       "      <td>male</td>\n",
       "      <td>22</td>\n",
       "      <td>1</td>\n",
       "      <td>0</td>\n",
       "      <td>A/5 21171</td>\n",
       "      <td>7.2500</td>\n",
       "      <td>other</td>\n",
       "      <td>S</td>\n",
       "      <td>other</td>\n",
       "    </tr>\n",
       "    <tr>\n",
       "      <th>2</th>\n",
       "      <td>1</td>\n",
       "      <td>1</td>\n",
       "      <td>Cumings, Mrs. John Bradley (Florence Briggs Th...</td>\n",
       "      <td>female</td>\n",
       "      <td>38</td>\n",
       "      <td>1</td>\n",
       "      <td>0</td>\n",
       "      <td>PC 17599</td>\n",
       "      <td>71.2833</td>\n",
       "      <td>C85</td>\n",
       "      <td>C</td>\n",
       "      <td>C</td>\n",
       "    </tr>\n",
       "    <tr>\n",
       "      <th>3</th>\n",
       "      <td>1</td>\n",
       "      <td>3</td>\n",
       "      <td>Heikkinen, Miss. Laina</td>\n",
       "      <td>female</td>\n",
       "      <td>26</td>\n",
       "      <td>0</td>\n",
       "      <td>0</td>\n",
       "      <td>STON/O2. 3101282</td>\n",
       "      <td>7.9250</td>\n",
       "      <td>other</td>\n",
       "      <td>S</td>\n",
       "      <td>other</td>\n",
       "    </tr>\n",
       "  </tbody>\n",
       "</table>\n",
       "</div>"
      ],
      "text/plain": [
       "             Survived  Pclass  \\\n",
       "PassengerId                     \n",
       "1                   0       3   \n",
       "2                   1       1   \n",
       "3                   1       3   \n",
       "\n",
       "                                                          Name     Sex  Age  \\\n",
       "PassengerId                                                                   \n",
       "1                                      Braund, Mr. Owen Harris    male   22   \n",
       "2            Cumings, Mrs. John Bradley (Florence Briggs Th...  female   38   \n",
       "3                                       Heikkinen, Miss. Laina  female   26   \n",
       "\n",
       "             SibSp  Parch            Ticket     Fare  Cabin Embarked  \\\n",
       "PassengerId                                                            \n",
       "1                1      0         A/5 21171   7.2500  other        S   \n",
       "2                1      0          PC 17599  71.2833    C85        C   \n",
       "3                0      0  STON/O2. 3101282   7.9250  other        S   \n",
       "\n",
       "            Cabin_stat  \n",
       "PassengerId             \n",
       "1                other  \n",
       "2                    C  \n",
       "3                other  "
      ]
     },
     "execution_count": 30,
     "metadata": {},
     "output_type": "execute_result"
    }
   ],
   "source": [
    "train.set_index('PassengerId', inplace=True)\n",
    "train.head(3)"
   ]
  },
  {
   "cell_type": "code",
   "execution_count": 31,
   "metadata": {
    "execution": {
     "iopub.execute_input": "2021-12-16T20:37:45.743475Z",
     "iopub.status.busy": "2021-12-16T20:37:45.743156Z",
     "iopub.status.idle": "2021-12-16T20:37:45.763031Z",
     "shell.execute_reply": "2021-12-16T20:37:45.762087Z",
     "shell.execute_reply.started": "2021-12-16T20:37:45.743438Z"
    }
   },
   "outputs": [
    {
     "data": {
      "text/html": [
       "<div>\n",
       "<style scoped>\n",
       "    .dataframe tbody tr th:only-of-type {\n",
       "        vertical-align: middle;\n",
       "    }\n",
       "\n",
       "    .dataframe tbody tr th {\n",
       "        vertical-align: top;\n",
       "    }\n",
       "\n",
       "    .dataframe thead th {\n",
       "        text-align: right;\n",
       "    }\n",
       "</style>\n",
       "<table border=\"1\" class=\"dataframe\">\n",
       "  <thead>\n",
       "    <tr style=\"text-align: right;\">\n",
       "      <th></th>\n",
       "      <th>Pclass</th>\n",
       "      <th>Name</th>\n",
       "      <th>Sex</th>\n",
       "      <th>Age</th>\n",
       "      <th>SibSp</th>\n",
       "      <th>Parch</th>\n",
       "      <th>Ticket</th>\n",
       "      <th>Fare</th>\n",
       "      <th>Cabin</th>\n",
       "      <th>Embarked</th>\n",
       "      <th>Cabin_stat</th>\n",
       "    </tr>\n",
       "    <tr>\n",
       "      <th>PassengerId</th>\n",
       "      <th></th>\n",
       "      <th></th>\n",
       "      <th></th>\n",
       "      <th></th>\n",
       "      <th></th>\n",
       "      <th></th>\n",
       "      <th></th>\n",
       "      <th></th>\n",
       "      <th></th>\n",
       "      <th></th>\n",
       "      <th></th>\n",
       "    </tr>\n",
       "  </thead>\n",
       "  <tbody>\n",
       "    <tr>\n",
       "      <th>892</th>\n",
       "      <td>3</td>\n",
       "      <td>Kelly, Mr. James</td>\n",
       "      <td>male</td>\n",
       "      <td>34</td>\n",
       "      <td>0</td>\n",
       "      <td>0</td>\n",
       "      <td>330911</td>\n",
       "      <td>7.8292</td>\n",
       "      <td>other</td>\n",
       "      <td>Q</td>\n",
       "      <td>other</td>\n",
       "    </tr>\n",
       "    <tr>\n",
       "      <th>893</th>\n",
       "      <td>3</td>\n",
       "      <td>Wilkes, Mrs. James (Ellen Needs)</td>\n",
       "      <td>female</td>\n",
       "      <td>47</td>\n",
       "      <td>1</td>\n",
       "      <td>0</td>\n",
       "      <td>363272</td>\n",
       "      <td>7.0000</td>\n",
       "      <td>other</td>\n",
       "      <td>S</td>\n",
       "      <td>other</td>\n",
       "    </tr>\n",
       "    <tr>\n",
       "      <th>894</th>\n",
       "      <td>2</td>\n",
       "      <td>Myles, Mr. Thomas Francis</td>\n",
       "      <td>male</td>\n",
       "      <td>62</td>\n",
       "      <td>0</td>\n",
       "      <td>0</td>\n",
       "      <td>240276</td>\n",
       "      <td>9.6875</td>\n",
       "      <td>other</td>\n",
       "      <td>Q</td>\n",
       "      <td>other</td>\n",
       "    </tr>\n",
       "  </tbody>\n",
       "</table>\n",
       "</div>"
      ],
      "text/plain": [
       "             Pclass                              Name     Sex  Age  SibSp  \\\n",
       "PassengerId                                                                 \n",
       "892               3                  Kelly, Mr. James    male   34      0   \n",
       "893               3  Wilkes, Mrs. James (Ellen Needs)  female   47      1   \n",
       "894               2         Myles, Mr. Thomas Francis    male   62      0   \n",
       "\n",
       "             Parch  Ticket    Fare  Cabin Embarked Cabin_stat  \n",
       "PassengerId                                                    \n",
       "892              0  330911  7.8292  other        Q      other  \n",
       "893              0  363272  7.0000  other        S      other  \n",
       "894              0  240276  9.6875  other        Q      other  "
      ]
     },
     "execution_count": 31,
     "metadata": {},
     "output_type": "execute_result"
    }
   ],
   "source": [
    "test.set_index('PassengerId', inplace=True)\n",
    "test.head(3)"
   ]
  },
  {
   "cell_type": "code",
   "execution_count": 32,
   "metadata": {
    "execution": {
     "iopub.execute_input": "2021-12-16T20:37:45.764989Z",
     "iopub.status.busy": "2021-12-16T20:37:45.764480Z",
     "iopub.status.idle": "2021-12-16T20:37:45.774104Z",
     "shell.execute_reply": "2021-12-16T20:37:45.773356Z",
     "shell.execute_reply.started": "2021-12-16T20:37:45.764941Z"
    }
   },
   "outputs": [
    {
     "data": {
      "text/plain": [
       "array(['A/5 21171', 'PC 17599', 'STON/O2. 3101282', '113803', '373450',\n",
       "       '330877', '17463', '349909', '347742', '237736', 'PP 9549',\n",
       "       '113783', 'A/5. 2151', '347082', '350406', '248706', '382652',\n",
       "       '244373', '345763', '2649', '239865', '248698', '330923', '113788',\n",
       "       '347077', '2631', '19950', '330959', '349216', 'PC 17601',\n",
       "       'PC 17569', '335677', 'C.A. 24579', 'PC 17604', '113789', '2677',\n",
       "       'A./5. 2152', '345764', '2651', '7546', '11668', '349253',\n",
       "       'SC/Paris 2123', '330958', 'S.C./A.4. 23567', '370371', '14311',\n",
       "       '2662', '349237', '3101295', 'A/4. 39886', 'PC 17572', '2926',\n",
       "       '113509', '19947', 'C.A. 31026', '2697', 'C.A. 34651', 'CA 2144',\n",
       "       '2669', '36973', '347088', 'PC 17605', '2661', 'C.A. 29395',\n",
       "       'S.P. 3464', '3101281', '315151', 'C.A. 33111', 'S.O.C. 14879',\n",
       "       '2680', '1601', '348123', '349208', '374746', '248738', '364516',\n",
       "       '345767', '345779', '330932', '113059', 'SO/C 14885', '3101278',\n",
       "       'W./C. 6608', 'SOTON/OQ 392086', '343275', '343276', '347466',\n",
       "       'W.E.P. 5734', 'C.A. 2315', '364500', '374910', 'PC 17754',\n",
       "       'PC 17759', '231919', '244367', '349245', '349215', '35281',\n",
       "       '7540', '3101276', '349207', '343120', '312991', '349249',\n",
       "       '371110', '110465', '2665', '324669', '4136', '2627',\n",
       "       'STON/O 2. 3101294', '370369', 'PC 17558', 'A4. 54510', '27267',\n",
       "       '370372', 'C 17369', '2668', '347061', '349241',\n",
       "       'SOTON/O.Q. 3101307', 'A/5. 3337', '228414', 'C.A. 29178',\n",
       "       'SC/PARIS 2133', '11752', '7534', 'PC 17593', '2678', '347081',\n",
       "       'STON/O2. 3101279', '365222', '231945', 'C.A. 33112', '350043',\n",
       "       '230080', '244310', 'S.O.P. 1166', '113776', 'A.5. 11206',\n",
       "       'A/5. 851', 'Fa 265302', 'PC 17597', '35851', 'SOTON/OQ 392090',\n",
       "       '315037', 'CA. 2343', '371362', 'C.A. 33595', '347068', '315093',\n",
       "       '363291', '113505', 'PC 17318', '111240', 'STON/O 2. 3101280',\n",
       "       '17764', '350404', '4133', 'PC 17595', '250653', 'LINE',\n",
       "       'SC/PARIS 2131', '230136', '315153', '113767', '370365', '111428',\n",
       "       '364849', '349247', '234604', '28424', '350046', 'PC 17610',\n",
       "       '368703', '4579', '370370', '248747', '345770', '3101264', '2628',\n",
       "       'A/5 3540', '347054', '2699', '367231', '112277',\n",
       "       'SOTON/O.Q. 3101311', 'F.C.C. 13528', 'A/5 21174', '250646',\n",
       "       '367229', '35273', 'STON/O2. 3101283', '243847', '11813',\n",
       "       'W/C 14208', 'SOTON/OQ 392089', '220367', '21440', '349234',\n",
       "       '19943', 'PP 4348', 'SW/PP 751', 'A/5 21173', '236171', '347067',\n",
       "       '237442', 'C.A. 29566', 'W./C. 6609', '26707', 'C.A. 31921',\n",
       "       '28665', 'SCO/W 1585', '367230', 'W./C. 14263',\n",
       "       'STON/O 2. 3101275', '2694', '19928', '347071', '250649', '11751',\n",
       "       '244252', '362316', '113514', 'A/5. 3336', '370129', '2650',\n",
       "       'PC 17585', '110152', 'PC 17755', '230433', '384461', '110413',\n",
       "       '112059', '382649', 'C.A. 17248', '347083', 'PC 17582', 'PC 17760',\n",
       "       '113798', '250644', 'PC 17596', '370375', '13502', '347073',\n",
       "       '239853', 'C.A. 2673', '336439', '347464', '345778', 'A/5. 10482',\n",
       "       '113056', '349239', '345774', '349206', '237798', '370373',\n",
       "       '19877', '11967', 'SC/Paris 2163', '349236', '349233', 'PC 17612',\n",
       "       '2693', '113781', '19988', '9234', '367226', '226593', 'A/5 2466',\n",
       "       '17421', 'PC 17758', 'P/PP 3381', 'PC 17485', '11767', 'PC 17608',\n",
       "       '250651', '349243', 'F.C.C. 13529', '347470', '29011', '36928',\n",
       "       '16966', 'A/5 21172', '349219', '234818', '345364', '28551',\n",
       "       '111361', '113043', 'PC 17611', '349225', '7598', '113784',\n",
       "       '248740', '244361', '229236', '248733', '31418', '386525',\n",
       "       'C.A. 37671', '315088', '7267', '113510', '2695', '2647', '345783',\n",
       "       '237671', '330931', '330980', 'SC/PARIS 2167', '2691',\n",
       "       'SOTON/O.Q. 3101310', 'C 7076', '110813', '2626', '14313',\n",
       "       'PC 17477', '11765', '3101267', '323951', 'C 7077', '113503',\n",
       "       '2648', '347069', 'PC 17757', '2653', 'STON/O 2. 3101293',\n",
       "       '349227', '27849', '367655', 'SC 1748', '113760', '350034',\n",
       "       '3101277', '350052', '350407', '28403', '244278', '240929',\n",
       "       'STON/O 2. 3101289', '341826', '4137', '315096', '28664', '347064',\n",
       "       '29106', '312992', '349222', '394140', 'STON/O 2. 3101269',\n",
       "       '343095', '28220', '250652', '28228', '345773', '349254',\n",
       "       'A/5. 13032', '315082', '347080', 'A/4. 34244', '2003', '250655',\n",
       "       '364851', 'SOTON/O.Q. 392078', '110564', '376564', 'SC/AH 3085',\n",
       "       'STON/O 2. 3101274', '13507', 'C.A. 18723', '345769', '347076',\n",
       "       '230434', '65306', '33638', '113794', '2666', '113786', '65303',\n",
       "       '113051', '17453', 'A/5 2817', '349240', '13509', '17464',\n",
       "       'F.C.C. 13531', '371060', '19952', '364506', '111320', '234360',\n",
       "       'A/S 2816', 'SOTON/O.Q. 3101306', '113792', '36209', '323592',\n",
       "       '315089', 'SC/AH Basle 541', '7553', '31027', '3460', '350060',\n",
       "       '3101298', '239854', 'A/5 3594', '4134', '11771', 'A.5. 18509',\n",
       "       '65304', 'SOTON/OQ 3101317', '113787', 'PC 17609', 'A/4 45380',\n",
       "       '36947', 'C.A. 6212', '350035', '315086', '364846', '330909',\n",
       "       '4135', '26360', '111427', 'C 4001', '382651', 'SOTON/OQ 3101316',\n",
       "       'PC 17473', 'PC 17603', '349209', '36967', 'C.A. 34260', '226875',\n",
       "       '349242', '12749', '349252', '2624', '2700', '367232',\n",
       "       'W./C. 14258', 'PC 17483', '3101296', '29104', '2641', '2690',\n",
       "       '315084', '113050', 'PC 17761', '364498', '13568', 'WE/P 5735',\n",
       "       '2908', '693', 'SC/PARIS 2146', '244358', '330979', '2620',\n",
       "       '347085', '113807', '11755', '345572', '372622', '349251',\n",
       "       '218629', 'SOTON/OQ 392082', 'SOTON/O.Q. 392087', 'A/4 48871',\n",
       "       '349205', '2686', '350417', 'S.W./PP 752', '11769', 'PC 17474',\n",
       "       '14312', 'A/4. 20589', '358585', '243880', '2689',\n",
       "       'STON/O 2. 3101286', '237789', '13049', '3411', '237565', '13567',\n",
       "       '14973', 'A./5. 3235', 'STON/O 2. 3101273', 'A/5 3902', '364848',\n",
       "       'SC/AH 29037', '248727', '2664', '349214', '113796', '364511',\n",
       "       '111426', '349910', '349246', '113804', 'SOTON/O.Q. 3101305',\n",
       "       '370377', '364512', '220845', '31028', '2659', '11753', '350029',\n",
       "       '54636', '36963', '219533', '349224', '334912', '27042', '347743',\n",
       "       '13214', '112052', '237668', 'STON/O 2. 3101292', '350050',\n",
       "       '349231', '13213', 'S.O./P.P. 751', 'CA. 2314', '349221', '8475',\n",
       "       '330919', '365226', '349223', '29751', '2623', '5727', '349210',\n",
       "       'STON/O 2. 3101285', '234686', '312993', 'A/5 3536', '19996',\n",
       "       '29750', 'F.C. 12750', 'C.A. 24580', '244270', '239856', '349912',\n",
       "       '342826', '4138', '330935', '6563', '349228', '350036', '24160',\n",
       "       '17474', '349256', '2672', '113800', '248731', '363592', '35852',\n",
       "       '348121', 'PC 17475', '36864', '350025', '223596', 'PC 17476',\n",
       "       'PC 17482', '113028', '7545', '250647', '348124', '34218', '36568',\n",
       "       '347062', '350048', '12233', '250643', '113806', '315094', '36866',\n",
       "       '236853', 'STON/O2. 3101271', '239855', '28425', '233639',\n",
       "       '349201', '349218', '16988', '376566', 'STON/O 2. 3101288',\n",
       "       '250648', '113773', '335097', '29103', '392096', '345780',\n",
       "       '349204', '350042', '29108', '363294', 'SOTON/O2 3101272', '2663',\n",
       "       '347074', '112379', '364850', '8471', '345781', '350047',\n",
       "       'S.O./P.P. 3', '2674', '29105', '347078', '383121', '36865',\n",
       "       '2687', '113501', 'W./C. 6607', 'SOTON/O.Q. 3101312', '374887',\n",
       "       '3101265', '12460', 'PC 17600', '349203', '28213', '17465',\n",
       "       '349244', '2685', '2625', '347089', '347063', '112050', '347087',\n",
       "       '248723', '3474', '28206', '364499', '112058', 'STON/O2. 3101290',\n",
       "       'S.C./PARIS 2079', 'C 7075', '315098', '19972', '368323', '367228',\n",
       "       '2671', '347468', '2223', 'PC 17756', '315097', '392092', '11774',\n",
       "       'SOTON/O2 3101287', '2683', '315090', 'C.A. 5547', '349213',\n",
       "       '347060', 'PC 17592', '392091', '113055', '2629', '350026',\n",
       "       '28134', '17466', '233866', '236852', 'SC/PARIS 2149', 'PC 17590',\n",
       "       '345777', '349248', '695', '345765', '2667', '349212', '349217',\n",
       "       '349257', '7552', 'C.A./SOTON 34068', 'SOTON/OQ 392076', '211536',\n",
       "       '112053', '111369', '370376'], dtype=object)"
      ]
     },
     "execution_count": 32,
     "metadata": {},
     "output_type": "execute_result"
    }
   ],
   "source": [
    "train['Ticket'].unique()"
   ]
  },
  {
   "cell_type": "markdown",
   "metadata": {},
   "source": [
    "Думаю, что с таким количеством уникальных значений билеты, как и имена пассажиров в обучении модели участвовать не будут."
   ]
  },
  {
   "cell_type": "markdown",
   "metadata": {},
   "source": [
    "**Посмотрим-ка ещё раз на нашу \"причёсанную\" таблицу:**"
   ]
  },
  {
   "cell_type": "code",
   "execution_count": 33,
   "metadata": {
    "execution": {
     "iopub.execute_input": "2021-12-16T20:37:45.775815Z",
     "iopub.status.busy": "2021-12-16T20:37:45.775403Z",
     "iopub.status.idle": "2021-12-16T20:37:45.802502Z",
     "shell.execute_reply": "2021-12-16T20:37:45.801835Z",
     "shell.execute_reply.started": "2021-12-16T20:37:45.775775Z"
    }
   },
   "outputs": [
    {
     "name": "stdout",
     "output_type": "stream",
     "text": [
      "<class 'pandas.core.frame.DataFrame'>\n",
      "Int64Index: 889 entries, 1 to 891\n",
      "Data columns (total 12 columns):\n",
      " #   Column      Non-Null Count  Dtype  \n",
      "---  ------      --------------  -----  \n",
      " 0   Survived    889 non-null    int64  \n",
      " 1   Pclass      889 non-null    int64  \n",
      " 2   Name        889 non-null    object \n",
      " 3   Sex         889 non-null    object \n",
      " 4   Age         889 non-null    uint8  \n",
      " 5   SibSp       889 non-null    int64  \n",
      " 6   Parch       889 non-null    int64  \n",
      " 7   Ticket      889 non-null    object \n",
      " 8   Fare        889 non-null    float64\n",
      " 9   Cabin       889 non-null    object \n",
      " 10  Embarked    889 non-null    object \n",
      " 11  Cabin_stat  889 non-null    object \n",
      "dtypes: float64(1), int64(4), object(6), uint8(1)\n",
      "memory usage: 84.2+ KB\n"
     ]
    },
    {
     "data": {
      "text/html": [
       "<div>\n",
       "<style scoped>\n",
       "    .dataframe tbody tr th:only-of-type {\n",
       "        vertical-align: middle;\n",
       "    }\n",
       "\n",
       "    .dataframe tbody tr th {\n",
       "        vertical-align: top;\n",
       "    }\n",
       "\n",
       "    .dataframe thead th {\n",
       "        text-align: right;\n",
       "    }\n",
       "</style>\n",
       "<table border=\"1\" class=\"dataframe\">\n",
       "  <thead>\n",
       "    <tr style=\"text-align: right;\">\n",
       "      <th></th>\n",
       "      <th>Survived</th>\n",
       "      <th>Pclass</th>\n",
       "      <th>Name</th>\n",
       "      <th>Sex</th>\n",
       "      <th>Age</th>\n",
       "      <th>SibSp</th>\n",
       "      <th>Parch</th>\n",
       "      <th>Ticket</th>\n",
       "      <th>Fare</th>\n",
       "      <th>Cabin</th>\n",
       "      <th>Embarked</th>\n",
       "      <th>Cabin_stat</th>\n",
       "    </tr>\n",
       "    <tr>\n",
       "      <th>PassengerId</th>\n",
       "      <th></th>\n",
       "      <th></th>\n",
       "      <th></th>\n",
       "      <th></th>\n",
       "      <th></th>\n",
       "      <th></th>\n",
       "      <th></th>\n",
       "      <th></th>\n",
       "      <th></th>\n",
       "      <th></th>\n",
       "      <th></th>\n",
       "      <th></th>\n",
       "    </tr>\n",
       "  </thead>\n",
       "  <tbody>\n",
       "    <tr>\n",
       "      <th>1</th>\n",
       "      <td>0</td>\n",
       "      <td>3</td>\n",
       "      <td>Braund, Mr. Owen Harris</td>\n",
       "      <td>male</td>\n",
       "      <td>22</td>\n",
       "      <td>1</td>\n",
       "      <td>0</td>\n",
       "      <td>A/5 21171</td>\n",
       "      <td>7.2500</td>\n",
       "      <td>other</td>\n",
       "      <td>S</td>\n",
       "      <td>other</td>\n",
       "    </tr>\n",
       "    <tr>\n",
       "      <th>2</th>\n",
       "      <td>1</td>\n",
       "      <td>1</td>\n",
       "      <td>Cumings, Mrs. John Bradley (Florence Briggs Th...</td>\n",
       "      <td>female</td>\n",
       "      <td>38</td>\n",
       "      <td>1</td>\n",
       "      <td>0</td>\n",
       "      <td>PC 17599</td>\n",
       "      <td>71.2833</td>\n",
       "      <td>C85</td>\n",
       "      <td>C</td>\n",
       "      <td>C</td>\n",
       "    </tr>\n",
       "    <tr>\n",
       "      <th>3</th>\n",
       "      <td>1</td>\n",
       "      <td>3</td>\n",
       "      <td>Heikkinen, Miss. Laina</td>\n",
       "      <td>female</td>\n",
       "      <td>26</td>\n",
       "      <td>0</td>\n",
       "      <td>0</td>\n",
       "      <td>STON/O2. 3101282</td>\n",
       "      <td>7.9250</td>\n",
       "      <td>other</td>\n",
       "      <td>S</td>\n",
       "      <td>other</td>\n",
       "    </tr>\n",
       "  </tbody>\n",
       "</table>\n",
       "</div>"
      ],
      "text/plain": [
       "             Survived  Pclass  \\\n",
       "PassengerId                     \n",
       "1                   0       3   \n",
       "2                   1       1   \n",
       "3                   1       3   \n",
       "\n",
       "                                                          Name     Sex  Age  \\\n",
       "PassengerId                                                                   \n",
       "1                                      Braund, Mr. Owen Harris    male   22   \n",
       "2            Cumings, Mrs. John Bradley (Florence Briggs Th...  female   38   \n",
       "3                                       Heikkinen, Miss. Laina  female   26   \n",
       "\n",
       "             SibSp  Parch            Ticket     Fare  Cabin Embarked  \\\n",
       "PassengerId                                                            \n",
       "1                1      0         A/5 21171   7.2500  other        S   \n",
       "2                1      0          PC 17599  71.2833    C85        C   \n",
       "3                0      0  STON/O2. 3101282   7.9250  other        S   \n",
       "\n",
       "            Cabin_stat  \n",
       "PassengerId             \n",
       "1                other  \n",
       "2                    C  \n",
       "3                other  "
      ]
     },
     "execution_count": 33,
     "metadata": {},
     "output_type": "execute_result"
    }
   ],
   "source": [
    "train.info()\n",
    "train.head(3)"
   ]
  },
  {
   "cell_type": "code",
   "execution_count": 34,
   "metadata": {
    "execution": {
     "iopub.execute_input": "2021-12-16T20:37:45.803929Z",
     "iopub.status.busy": "2021-12-16T20:37:45.803701Z",
     "iopub.status.idle": "2021-12-16T20:37:45.827523Z",
     "shell.execute_reply": "2021-12-16T20:37:45.826634Z",
     "shell.execute_reply.started": "2021-12-16T20:37:45.803901Z"
    }
   },
   "outputs": [
    {
     "name": "stdout",
     "output_type": "stream",
     "text": [
      "<class 'pandas.core.frame.DataFrame'>\n",
      "Int64Index: 417 entries, 892 to 1309\n",
      "Data columns (total 11 columns):\n",
      " #   Column      Non-Null Count  Dtype  \n",
      "---  ------      --------------  -----  \n",
      " 0   Pclass      417 non-null    int64  \n",
      " 1   Name        417 non-null    object \n",
      " 2   Sex         417 non-null    object \n",
      " 3   Age         417 non-null    uint8  \n",
      " 4   SibSp       417 non-null    int64  \n",
      " 5   Parch       417 non-null    int64  \n",
      " 6   Ticket      417 non-null    object \n",
      " 7   Fare        417 non-null    float64\n",
      " 8   Cabin       417 non-null    object \n",
      " 9   Embarked    417 non-null    object \n",
      " 10  Cabin_stat  417 non-null    object \n",
      "dtypes: float64(1), int64(3), object(6), uint8(1)\n",
      "memory usage: 36.2+ KB\n"
     ]
    },
    {
     "data": {
      "text/html": [
       "<div>\n",
       "<style scoped>\n",
       "    .dataframe tbody tr th:only-of-type {\n",
       "        vertical-align: middle;\n",
       "    }\n",
       "\n",
       "    .dataframe tbody tr th {\n",
       "        vertical-align: top;\n",
       "    }\n",
       "\n",
       "    .dataframe thead th {\n",
       "        text-align: right;\n",
       "    }\n",
       "</style>\n",
       "<table border=\"1\" class=\"dataframe\">\n",
       "  <thead>\n",
       "    <tr style=\"text-align: right;\">\n",
       "      <th></th>\n",
       "      <th>Pclass</th>\n",
       "      <th>Name</th>\n",
       "      <th>Sex</th>\n",
       "      <th>Age</th>\n",
       "      <th>SibSp</th>\n",
       "      <th>Parch</th>\n",
       "      <th>Ticket</th>\n",
       "      <th>Fare</th>\n",
       "      <th>Cabin</th>\n",
       "      <th>Embarked</th>\n",
       "      <th>Cabin_stat</th>\n",
       "    </tr>\n",
       "    <tr>\n",
       "      <th>PassengerId</th>\n",
       "      <th></th>\n",
       "      <th></th>\n",
       "      <th></th>\n",
       "      <th></th>\n",
       "      <th></th>\n",
       "      <th></th>\n",
       "      <th></th>\n",
       "      <th></th>\n",
       "      <th></th>\n",
       "      <th></th>\n",
       "      <th></th>\n",
       "    </tr>\n",
       "  </thead>\n",
       "  <tbody>\n",
       "    <tr>\n",
       "      <th>892</th>\n",
       "      <td>3</td>\n",
       "      <td>Kelly, Mr. James</td>\n",
       "      <td>male</td>\n",
       "      <td>34</td>\n",
       "      <td>0</td>\n",
       "      <td>0</td>\n",
       "      <td>330911</td>\n",
       "      <td>7.8292</td>\n",
       "      <td>other</td>\n",
       "      <td>Q</td>\n",
       "      <td>other</td>\n",
       "    </tr>\n",
       "    <tr>\n",
       "      <th>893</th>\n",
       "      <td>3</td>\n",
       "      <td>Wilkes, Mrs. James (Ellen Needs)</td>\n",
       "      <td>female</td>\n",
       "      <td>47</td>\n",
       "      <td>1</td>\n",
       "      <td>0</td>\n",
       "      <td>363272</td>\n",
       "      <td>7.0000</td>\n",
       "      <td>other</td>\n",
       "      <td>S</td>\n",
       "      <td>other</td>\n",
       "    </tr>\n",
       "    <tr>\n",
       "      <th>894</th>\n",
       "      <td>2</td>\n",
       "      <td>Myles, Mr. Thomas Francis</td>\n",
       "      <td>male</td>\n",
       "      <td>62</td>\n",
       "      <td>0</td>\n",
       "      <td>0</td>\n",
       "      <td>240276</td>\n",
       "      <td>9.6875</td>\n",
       "      <td>other</td>\n",
       "      <td>Q</td>\n",
       "      <td>other</td>\n",
       "    </tr>\n",
       "  </tbody>\n",
       "</table>\n",
       "</div>"
      ],
      "text/plain": [
       "             Pclass                              Name     Sex  Age  SibSp  \\\n",
       "PassengerId                                                                 \n",
       "892               3                  Kelly, Mr. James    male   34      0   \n",
       "893               3  Wilkes, Mrs. James (Ellen Needs)  female   47      1   \n",
       "894               2         Myles, Mr. Thomas Francis    male   62      0   \n",
       "\n",
       "             Parch  Ticket    Fare  Cabin Embarked Cabin_stat  \n",
       "PassengerId                                                    \n",
       "892              0  330911  7.8292  other        Q      other  \n",
       "893              0  363272  7.0000  other        S      other  \n",
       "894              0  240276  9.6875  other        Q      other  "
      ]
     },
     "execution_count": 34,
     "metadata": {},
     "output_type": "execute_result"
    }
   ],
   "source": [
    "test.info()\n",
    "test.head(3)"
   ]
  },
  {
   "cell_type": "markdown",
   "metadata": {},
   "source": [
    "Отлично :) Выглядит хорошо."
   ]
  },
  {
   "cell_type": "markdown",
   "metadata": {},
   "source": [
    "## Разбивка на цели/признаки"
   ]
  },
  {
   "cell_type": "markdown",
   "metadata": {},
   "source": [
    "Создавая признаки избавимся заодно от \"груза\" по типу уникальных значений имён пользователей и билетов, хватит и индексов, чтоб потом всё вернуть на место."
   ]
  },
  {
   "cell_type": "code",
   "execution_count": 35,
   "metadata": {
    "execution": {
     "iopub.execute_input": "2021-12-16T20:37:45.828827Z",
     "iopub.status.busy": "2021-12-16T20:37:45.828564Z",
     "iopub.status.idle": "2021-12-16T20:37:45.835733Z",
     "shell.execute_reply": "2021-12-16T20:37:45.834843Z",
     "shell.execute_reply.started": "2021-12-16T20:37:45.828795Z"
    }
   },
   "outputs": [],
   "source": [
    "target_train = train['Survived'] #конечно же цель - определить выживание\n",
    "features_train = train.drop(['Name', 'Ticket', 'Survived'], axis=1)"
   ]
  },
  {
   "cell_type": "code",
   "execution_count": 36,
   "metadata": {
    "execution": {
     "iopub.execute_input": "2021-12-16T20:37:45.838011Z",
     "iopub.status.busy": "2021-12-16T20:37:45.837667Z",
     "iopub.status.idle": "2021-12-16T20:37:45.849855Z",
     "shell.execute_reply": "2021-12-16T20:37:45.848841Z",
     "shell.execute_reply.started": "2021-12-16T20:37:45.837967Z"
    }
   },
   "outputs": [],
   "source": [
    "features_test = test.drop(['Name', 'Ticket'], axis=1)"
   ]
  },
  {
   "cell_type": "code",
   "execution_count": 37,
   "metadata": {
    "execution": {
     "iopub.execute_input": "2021-12-16T20:37:45.851996Z",
     "iopub.status.busy": "2021-12-16T20:37:45.851513Z",
     "iopub.status.idle": "2021-12-16T20:37:45.869605Z",
     "shell.execute_reply": "2021-12-16T20:37:45.868708Z",
     "shell.execute_reply.started": "2021-12-16T20:37:45.851908Z"
    }
   },
   "outputs": [
    {
     "data": {
      "text/html": [
       "<div>\n",
       "<style scoped>\n",
       "    .dataframe tbody tr th:only-of-type {\n",
       "        vertical-align: middle;\n",
       "    }\n",
       "\n",
       "    .dataframe tbody tr th {\n",
       "        vertical-align: top;\n",
       "    }\n",
       "\n",
       "    .dataframe thead th {\n",
       "        text-align: right;\n",
       "    }\n",
       "</style>\n",
       "<table border=\"1\" class=\"dataframe\">\n",
       "  <thead>\n",
       "    <tr style=\"text-align: right;\">\n",
       "      <th></th>\n",
       "      <th>Pclass</th>\n",
       "      <th>Sex</th>\n",
       "      <th>Age</th>\n",
       "      <th>SibSp</th>\n",
       "      <th>Parch</th>\n",
       "      <th>Fare</th>\n",
       "      <th>Cabin</th>\n",
       "      <th>Embarked</th>\n",
       "      <th>Cabin_stat</th>\n",
       "    </tr>\n",
       "    <tr>\n",
       "      <th>PassengerId</th>\n",
       "      <th></th>\n",
       "      <th></th>\n",
       "      <th></th>\n",
       "      <th></th>\n",
       "      <th></th>\n",
       "      <th></th>\n",
       "      <th></th>\n",
       "      <th></th>\n",
       "      <th></th>\n",
       "    </tr>\n",
       "  </thead>\n",
       "  <tbody>\n",
       "    <tr>\n",
       "      <th>1</th>\n",
       "      <td>3</td>\n",
       "      <td>male</td>\n",
       "      <td>22</td>\n",
       "      <td>1</td>\n",
       "      <td>0</td>\n",
       "      <td>7.2500</td>\n",
       "      <td>other</td>\n",
       "      <td>S</td>\n",
       "      <td>other</td>\n",
       "    </tr>\n",
       "    <tr>\n",
       "      <th>2</th>\n",
       "      <td>1</td>\n",
       "      <td>female</td>\n",
       "      <td>38</td>\n",
       "      <td>1</td>\n",
       "      <td>0</td>\n",
       "      <td>71.2833</td>\n",
       "      <td>C85</td>\n",
       "      <td>C</td>\n",
       "      <td>C</td>\n",
       "    </tr>\n",
       "    <tr>\n",
       "      <th>3</th>\n",
       "      <td>3</td>\n",
       "      <td>female</td>\n",
       "      <td>26</td>\n",
       "      <td>0</td>\n",
       "      <td>0</td>\n",
       "      <td>7.9250</td>\n",
       "      <td>other</td>\n",
       "      <td>S</td>\n",
       "      <td>other</td>\n",
       "    </tr>\n",
       "  </tbody>\n",
       "</table>\n",
       "</div>"
      ],
      "text/plain": [
       "             Pclass     Sex  Age  SibSp  Parch     Fare  Cabin Embarked  \\\n",
       "PassengerId                                                               \n",
       "1                 3    male   22      1      0   7.2500  other        S   \n",
       "2                 1  female   38      1      0  71.2833    C85        C   \n",
       "3                 3  female   26      0      0   7.9250  other        S   \n",
       "\n",
       "            Cabin_stat  \n",
       "PassengerId             \n",
       "1                other  \n",
       "2                    C  \n",
       "3                other  "
      ]
     },
     "execution_count": 37,
     "metadata": {},
     "output_type": "execute_result"
    }
   ],
   "source": [
    "features_train.head(3) #проверка"
   ]
  },
  {
   "cell_type": "markdown",
   "metadata": {},
   "source": [
    "Разобьём трейн на трейн и валид, что б понять, насколько хороши наши модели."
   ]
  },
  {
   "cell_type": "code",
   "execution_count": 38,
   "metadata": {
    "execution": {
     "iopub.execute_input": "2021-12-16T20:37:45.871598Z",
     "iopub.status.busy": "2021-12-16T20:37:45.871059Z",
     "iopub.status.idle": "2021-12-16T20:37:45.879717Z",
     "shell.execute_reply": "2021-12-16T20:37:45.878584Z",
     "shell.execute_reply.started": "2021-12-16T20:37:45.871552Z"
    }
   },
   "outputs": [],
   "source": [
    " features_train, features_valid, target_train, target_valid = train_test_split(features_train, target_train, test_size=0.3, random_state=12345)"
   ]
  },
  {
   "cell_type": "markdown",
   "metadata": {},
   "source": [
    "Обычно под валид выделяют 30%/"
   ]
  },
  {
   "cell_type": "code",
   "execution_count": 39,
   "metadata": {
    "execution": {
     "iopub.execute_input": "2021-12-16T20:37:45.882050Z",
     "iopub.status.busy": "2021-12-16T20:37:45.881473Z",
     "iopub.status.idle": "2021-12-16T20:37:45.891084Z",
     "shell.execute_reply": "2021-12-16T20:37:45.890139Z",
     "shell.execute_reply.started": "2021-12-16T20:37:45.882000Z"
    }
   },
   "outputs": [
    {
     "data": {
      "text/plain": [
       "('Соотношение тренировочной к тестовой выборке:', (622,), (267,))"
      ]
     },
     "execution_count": 39,
     "metadata": {},
     "output_type": "execute_result"
    }
   ],
   "source": [
    "\"Соотношение тренировочной к тестовой выборке:\", target_train.shape, target_valid.shape"
   ]
  },
  {
   "cell_type": "markdown",
   "metadata": {},
   "source": [
    "## Анализ моделей"
   ]
  },
  {
   "cell_type": "markdown",
   "metadata": {},
   "source": [
    "### Логистическая регрессия"
   ]
  },
  {
   "cell_type": "markdown",
   "metadata": {},
   "source": [
    "Придётся сделать прямое кодирование, она буквы не читает."
   ]
  },
  {
   "cell_type": "code",
   "execution_count": 40,
   "metadata": {
    "execution": {
     "iopub.execute_input": "2021-12-16T20:37:45.898385Z",
     "iopub.status.busy": "2021-12-16T20:37:45.897674Z",
     "iopub.status.idle": "2021-12-16T20:37:45.932124Z",
     "shell.execute_reply": "2021-12-16T20:37:45.931208Z",
     "shell.execute_reply.started": "2021-12-16T20:37:45.898335Z"
    }
   },
   "outputs": [
    {
     "name": "stdout",
     "output_type": "stream",
     "text": [
      "<class 'pandas.core.frame.DataFrame'>\n",
      "Int64Index: 622 entries, 63 to 484\n",
      "Data columns (total 8 columns):\n",
      " #   Column      Non-Null Count  Dtype  \n",
      "---  ------      --------------  -----  \n",
      " 0   Pclass      622 non-null    int64  \n",
      " 1   Age         622 non-null    uint8  \n",
      " 2   SibSp       622 non-null    int64  \n",
      " 3   Parch       622 non-null    int64  \n",
      " 4   Fare        622 non-null    float64\n",
      " 5   Sex_male    622 non-null    uint8  \n",
      " 6   Embarked_Q  622 non-null    uint8  \n",
      " 7   Embarked_S  622 non-null    uint8  \n",
      "dtypes: float64(1), int64(3), uint8(4)\n",
      "memory usage: 26.7 KB\n"
     ]
    },
    {
     "data": {
      "text/html": [
       "<div>\n",
       "<style scoped>\n",
       "    .dataframe tbody tr th:only-of-type {\n",
       "        vertical-align: middle;\n",
       "    }\n",
       "\n",
       "    .dataframe tbody tr th {\n",
       "        vertical-align: top;\n",
       "    }\n",
       "\n",
       "    .dataframe thead th {\n",
       "        text-align: right;\n",
       "    }\n",
       "</style>\n",
       "<table border=\"1\" class=\"dataframe\">\n",
       "  <thead>\n",
       "    <tr style=\"text-align: right;\">\n",
       "      <th></th>\n",
       "      <th>Pclass</th>\n",
       "      <th>Age</th>\n",
       "      <th>SibSp</th>\n",
       "      <th>Parch</th>\n",
       "      <th>Fare</th>\n",
       "      <th>Sex_male</th>\n",
       "      <th>Embarked_Q</th>\n",
       "      <th>Embarked_S</th>\n",
       "    </tr>\n",
       "    <tr>\n",
       "      <th>PassengerId</th>\n",
       "      <th></th>\n",
       "      <th></th>\n",
       "      <th></th>\n",
       "      <th></th>\n",
       "      <th></th>\n",
       "      <th></th>\n",
       "      <th></th>\n",
       "      <th></th>\n",
       "    </tr>\n",
       "  </thead>\n",
       "  <tbody>\n",
       "    <tr>\n",
       "      <th>63</th>\n",
       "      <td>1</td>\n",
       "      <td>45</td>\n",
       "      <td>1</td>\n",
       "      <td>0</td>\n",
       "      <td>83.4750</td>\n",
       "      <td>1</td>\n",
       "      <td>0</td>\n",
       "      <td>1</td>\n",
       "    </tr>\n",
       "    <tr>\n",
       "      <th>498</th>\n",
       "      <td>3</td>\n",
       "      <td>29</td>\n",
       "      <td>0</td>\n",
       "      <td>0</td>\n",
       "      <td>15.1000</td>\n",
       "      <td>1</td>\n",
       "      <td>0</td>\n",
       "      <td>1</td>\n",
       "    </tr>\n",
       "    <tr>\n",
       "      <th>572</th>\n",
       "      <td>1</td>\n",
       "      <td>53</td>\n",
       "      <td>2</td>\n",
       "      <td>0</td>\n",
       "      <td>51.4792</td>\n",
       "      <td>0</td>\n",
       "      <td>0</td>\n",
       "      <td>1</td>\n",
       "    </tr>\n",
       "    <tr>\n",
       "      <th>386</th>\n",
       "      <td>2</td>\n",
       "      <td>18</td>\n",
       "      <td>0</td>\n",
       "      <td>0</td>\n",
       "      <td>73.5000</td>\n",
       "      <td>1</td>\n",
       "      <td>0</td>\n",
       "      <td>1</td>\n",
       "    </tr>\n",
       "    <tr>\n",
       "      <th>879</th>\n",
       "      <td>3</td>\n",
       "      <td>29</td>\n",
       "      <td>0</td>\n",
       "      <td>0</td>\n",
       "      <td>7.8958</td>\n",
       "      <td>1</td>\n",
       "      <td>0</td>\n",
       "      <td>1</td>\n",
       "    </tr>\n",
       "  </tbody>\n",
       "</table>\n",
       "</div>"
      ],
      "text/plain": [
       "             Pclass  Age  SibSp  Parch     Fare  Sex_male  Embarked_Q  \\\n",
       "PassengerId                                                             \n",
       "63                1   45      1      0  83.4750         1           0   \n",
       "498               3   29      0      0  15.1000         1           0   \n",
       "572               1   53      2      0  51.4792         0           0   \n",
       "386               2   18      0      0  73.5000         1           0   \n",
       "879               3   29      0      0   7.8958         1           0   \n",
       "\n",
       "             Embarked_S  \n",
       "PassengerId              \n",
       "63                    1  \n",
       "498                   1  \n",
       "572                   1  \n",
       "386                   1  \n",
       "879                   1  "
      ]
     },
     "execution_count": 40,
     "metadata": {},
     "output_type": "execute_result"
    }
   ],
   "source": [
    "features_train_ohe = pd.get_dummies(features_train.drop(['Cabin', 'Cabin_stat'], axis=1), drop_first=True)\n",
    "\n",
    "features_train_ohe.info()\n",
    "features_train_ohe.head()"
   ]
  },
  {
   "cell_type": "code",
   "execution_count": 41,
   "metadata": {
    "execution": {
     "iopub.execute_input": "2021-12-16T20:37:45.933487Z",
     "iopub.status.busy": "2021-12-16T20:37:45.933268Z",
     "iopub.status.idle": "2021-12-16T20:37:45.954917Z",
     "shell.execute_reply": "2021-12-16T20:37:45.954102Z",
     "shell.execute_reply.started": "2021-12-16T20:37:45.933461Z"
    }
   },
   "outputs": [
    {
     "data": {
      "text/html": [
       "<div>\n",
       "<style scoped>\n",
       "    .dataframe tbody tr th:only-of-type {\n",
       "        vertical-align: middle;\n",
       "    }\n",
       "\n",
       "    .dataframe tbody tr th {\n",
       "        vertical-align: top;\n",
       "    }\n",
       "\n",
       "    .dataframe thead th {\n",
       "        text-align: right;\n",
       "    }\n",
       "</style>\n",
       "<table border=\"1\" class=\"dataframe\">\n",
       "  <thead>\n",
       "    <tr style=\"text-align: right;\">\n",
       "      <th></th>\n",
       "      <th>Pclass</th>\n",
       "      <th>Age</th>\n",
       "      <th>SibSp</th>\n",
       "      <th>Parch</th>\n",
       "      <th>Fare</th>\n",
       "      <th>Sex_male</th>\n",
       "      <th>Embarked_Q</th>\n",
       "      <th>Embarked_S</th>\n",
       "    </tr>\n",
       "    <tr>\n",
       "      <th>PassengerId</th>\n",
       "      <th></th>\n",
       "      <th></th>\n",
       "      <th></th>\n",
       "      <th></th>\n",
       "      <th></th>\n",
       "      <th></th>\n",
       "      <th></th>\n",
       "      <th></th>\n",
       "    </tr>\n",
       "  </thead>\n",
       "  <tbody>\n",
       "    <tr>\n",
       "      <th>689</th>\n",
       "      <td>3</td>\n",
       "      <td>18</td>\n",
       "      <td>0</td>\n",
       "      <td>0</td>\n",
       "      <td>7.7958</td>\n",
       "      <td>1</td>\n",
       "      <td>0</td>\n",
       "      <td>1</td>\n",
       "    </tr>\n",
       "    <tr>\n",
       "      <th>785</th>\n",
       "      <td>3</td>\n",
       "      <td>25</td>\n",
       "      <td>0</td>\n",
       "      <td>0</td>\n",
       "      <td>7.0500</td>\n",
       "      <td>1</td>\n",
       "      <td>0</td>\n",
       "      <td>1</td>\n",
       "    </tr>\n",
       "    <tr>\n",
       "      <th>551</th>\n",
       "      <td>1</td>\n",
       "      <td>17</td>\n",
       "      <td>0</td>\n",
       "      <td>2</td>\n",
       "      <td>110.8833</td>\n",
       "      <td>1</td>\n",
       "      <td>0</td>\n",
       "      <td>0</td>\n",
       "    </tr>\n",
       "  </tbody>\n",
       "</table>\n",
       "</div>"
      ],
      "text/plain": [
       "             Pclass  Age  SibSp  Parch      Fare  Sex_male  Embarked_Q  \\\n",
       "PassengerId                                                              \n",
       "689               3   18      0      0    7.7958         1           0   \n",
       "785               3   25      0      0    7.0500         1           0   \n",
       "551               1   17      0      2  110.8833         1           0   \n",
       "\n",
       "             Embarked_S  \n",
       "PassengerId              \n",
       "689                   1  \n",
       "785                   1  \n",
       "551                   0  "
      ]
     },
     "execution_count": 41,
     "metadata": {},
     "output_type": "execute_result"
    }
   ],
   "source": [
    "features_valid_ohe = pd.get_dummies(features_valid.drop(['Cabin', 'Cabin_stat'], axis=1), drop_first=True)\n",
    "\n",
    "features_valid_ohe.head(3)"
   ]
  },
  {
   "cell_type": "markdown",
   "metadata": {},
   "source": [
    "Тест тоже заодно изменим, вдруг логрег станет лучшей моделью:"
   ]
  },
  {
   "cell_type": "code",
   "execution_count": 42,
   "metadata": {
    "execution": {
     "iopub.execute_input": "2021-12-16T20:37:45.956681Z",
     "iopub.status.busy": "2021-12-16T20:37:45.956448Z",
     "iopub.status.idle": "2021-12-16T20:37:45.977191Z",
     "shell.execute_reply": "2021-12-16T20:37:45.976345Z",
     "shell.execute_reply.started": "2021-12-16T20:37:45.956653Z"
    }
   },
   "outputs": [
    {
     "data": {
      "text/html": [
       "<div>\n",
       "<style scoped>\n",
       "    .dataframe tbody tr th:only-of-type {\n",
       "        vertical-align: middle;\n",
       "    }\n",
       "\n",
       "    .dataframe tbody tr th {\n",
       "        vertical-align: top;\n",
       "    }\n",
       "\n",
       "    .dataframe thead th {\n",
       "        text-align: right;\n",
       "    }\n",
       "</style>\n",
       "<table border=\"1\" class=\"dataframe\">\n",
       "  <thead>\n",
       "    <tr style=\"text-align: right;\">\n",
       "      <th></th>\n",
       "      <th>Pclass</th>\n",
       "      <th>Age</th>\n",
       "      <th>SibSp</th>\n",
       "      <th>Parch</th>\n",
       "      <th>Fare</th>\n",
       "      <th>Sex_male</th>\n",
       "      <th>Embarked_Q</th>\n",
       "      <th>Embarked_S</th>\n",
       "    </tr>\n",
       "    <tr>\n",
       "      <th>PassengerId</th>\n",
       "      <th></th>\n",
       "      <th></th>\n",
       "      <th></th>\n",
       "      <th></th>\n",
       "      <th></th>\n",
       "      <th></th>\n",
       "      <th></th>\n",
       "      <th></th>\n",
       "    </tr>\n",
       "  </thead>\n",
       "  <tbody>\n",
       "    <tr>\n",
       "      <th>892</th>\n",
       "      <td>3</td>\n",
       "      <td>34</td>\n",
       "      <td>0</td>\n",
       "      <td>0</td>\n",
       "      <td>7.8292</td>\n",
       "      <td>1</td>\n",
       "      <td>1</td>\n",
       "      <td>0</td>\n",
       "    </tr>\n",
       "    <tr>\n",
       "      <th>893</th>\n",
       "      <td>3</td>\n",
       "      <td>47</td>\n",
       "      <td>1</td>\n",
       "      <td>0</td>\n",
       "      <td>7.0000</td>\n",
       "      <td>0</td>\n",
       "      <td>0</td>\n",
       "      <td>1</td>\n",
       "    </tr>\n",
       "    <tr>\n",
       "      <th>894</th>\n",
       "      <td>2</td>\n",
       "      <td>62</td>\n",
       "      <td>0</td>\n",
       "      <td>0</td>\n",
       "      <td>9.6875</td>\n",
       "      <td>1</td>\n",
       "      <td>1</td>\n",
       "      <td>0</td>\n",
       "    </tr>\n",
       "  </tbody>\n",
       "</table>\n",
       "</div>"
      ],
      "text/plain": [
       "             Pclass  Age  SibSp  Parch    Fare  Sex_male  Embarked_Q  \\\n",
       "PassengerId                                                            \n",
       "892               3   34      0      0  7.8292         1           1   \n",
       "893               3   47      1      0  7.0000         0           0   \n",
       "894               2   62      0      0  9.6875         1           1   \n",
       "\n",
       "             Embarked_S  \n",
       "PassengerId              \n",
       "892                   0  \n",
       "893                   1  \n",
       "894                   0  "
      ]
     },
     "execution_count": 42,
     "metadata": {},
     "output_type": "execute_result"
    }
   ],
   "source": [
    "features_test_ohe = pd.get_dummies(features_test.drop(['Cabin', 'Cabin_stat'], axis=1), drop_first=True)\n",
    "\n",
    "features_test_ohe.head(3)"
   ]
  },
  {
   "cell_type": "markdown",
   "metadata": {},
   "source": [
    "Пришлось удалить некоторые признаки, т.к. при прямом кодировании столбцов получается неодинаковое количество и модели не работают."
   ]
  },
  {
   "cell_type": "markdown",
   "metadata": {},
   "source": [
    "**Создадим модель:**"
   ]
  },
  {
   "cell_type": "code",
   "execution_count": 43,
   "metadata": {
    "execution": {
     "iopub.execute_input": "2021-12-16T20:37:45.978718Z",
     "iopub.status.busy": "2021-12-16T20:37:45.978482Z",
     "iopub.status.idle": "2021-12-16T20:37:46.002588Z",
     "shell.execute_reply": "2021-12-16T20:37:46.001797Z",
     "shell.execute_reply.started": "2021-12-16T20:37:45.978689Z"
    }
   },
   "outputs": [
    {
     "name": "stdout",
     "output_type": "stream",
     "text": [
      "Предсказание несбалансированной модели: 0.8052434456928839\n",
      "Accuracy: 0.8052434456928839\n",
      "F1: 0.7204301075268816\n"
     ]
    }
   ],
   "source": [
    "model_log = LogisticRegression(random_state=12345, solver='liblinear')\n",
    "model_log.fit(features_train_ohe, target_train)\n",
    "predicted_log_valid = model_log.predict(features_valid_ohe)\n",
    "\n",
    "print(\"Предсказание несбалансированной модели:\", model_log.score(features_valid_ohe, target_valid))\n",
    "print(\"Accuracy:\", accuracy_score(target_valid, predicted_log_valid))\n",
    "print(\"F1:\", f1_score(target_valid, predicted_log_valid))"
   ]
  },
  {
   "cell_type": "markdown",
   "metadata": {},
   "source": [
    "### Модель леса"
   ]
  },
  {
   "cell_type": "code",
   "execution_count": 44,
   "metadata": {
    "execution": {
     "iopub.execute_input": "2021-12-16T20:37:46.004748Z",
     "iopub.status.busy": "2021-12-16T20:37:46.003875Z",
     "iopub.status.idle": "2021-12-16T20:38:20.050895Z",
     "shell.execute_reply": "2021-12-16T20:38:20.049964Z",
     "shell.execute_reply.started": "2021-12-16T20:37:46.004701Z"
    }
   },
   "outputs": [
    {
     "name": "stdout",
     "output_type": "stream",
     "text": [
      "Accuracy наилучшей модели случайного леса на валидационной выборке: 0.8389513108614233\n",
      "F1: 0.7724867724867724\n"
     ]
    }
   ],
   "source": [
    "best_model_forest = None\n",
    "best_result_forest = 0\n",
    "best_predict_forest = None\n",
    "\n",
    "for est in range(1, 50):\n",
    "    for depth in range(1, 12):\n",
    "        model_forest = RandomForestClassifier(random_state=12345, n_estimators=est, max_depth=depth) # обучим модель с заданным количеством деревьев\n",
    "        model_forest.fit(features_train_ohe, target_train) # обучим модель на тренировочной выборке\n",
    "        result_forest = model_forest.score(features_valid_ohe, target_valid) # посчитаем качество модели на валидационной выборке\n",
    "        predict_forest = model_forest.predict(features_valid_ohe)\n",
    "\n",
    "        if result_forest > best_result_forest:\n",
    "            best_model_forest = model_forest # сохраним наилучшую модель\n",
    "            best_result_forest = result_forest #  сохраним наилучшее значение метрики accuracy на валидационных данных\n",
    "            best_predict_forest = predict_forest\n",
    "\n",
    "print(\"Accuracy наилучшей модели случайного леса на валидационной выборке:\", best_result_forest)\n",
    "print(\"F1:\", f1_score(target_valid, best_predict_forest))"
   ]
  },
  {
   "cell_type": "markdown",
   "metadata": {},
   "source": [
    "Кстати тут мы не используем гридсёрч, потому что он меня бесит своей медлительностью. Лучше использовать библиотеку рандомного подбора `Optuna`, но её мы тоже использовать не будем, т.к. это кагловский конкурс, а с оптуной кагл не дружит. Пусть будет обычный цикл."
   ]
  },
  {
   "cell_type": "markdown",
   "metadata": {},
   "source": [
    "### CatBoost"
   ]
  },
  {
   "cell_type": "markdown",
   "metadata": {},
   "source": [
    "Для этого зверя нужно определить столбцы-категории, высчитать индексы этих столбцов. Капец как неудобно, но что поделать."
   ]
  },
  {
   "cell_type": "code",
   "execution_count": 45,
   "metadata": {
    "execution": {
     "iopub.execute_input": "2021-12-16T20:38:20.053045Z",
     "iopub.status.busy": "2021-12-16T20:38:20.052729Z",
     "iopub.status.idle": "2021-12-16T20:38:20.065988Z",
     "shell.execute_reply": "2021-12-16T20:38:20.065058Z",
     "shell.execute_reply.started": "2021-12-16T20:38:20.053003Z"
    }
   },
   "outputs": [
    {
     "name": "stdout",
     "output_type": "stream",
     "text": [
      "<class 'pandas.core.frame.DataFrame'>\n",
      "Int64Index: 622 entries, 63 to 484\n",
      "Data columns (total 9 columns):\n",
      " #   Column      Non-Null Count  Dtype  \n",
      "---  ------      --------------  -----  \n",
      " 0   Pclass      622 non-null    int64  \n",
      " 1   Sex         622 non-null    object \n",
      " 2   Age         622 non-null    uint8  \n",
      " 3   SibSp       622 non-null    int64  \n",
      " 4   Parch       622 non-null    int64  \n",
      " 5   Fare        622 non-null    float64\n",
      " 6   Cabin       622 non-null    object \n",
      " 7   Embarked    622 non-null    object \n",
      " 8   Cabin_stat  622 non-null    object \n",
      "dtypes: float64(1), int64(3), object(4), uint8(1)\n",
      "memory usage: 44.3+ KB\n"
     ]
    }
   ],
   "source": [
    "features_train.info()"
   ]
  },
  {
   "cell_type": "markdown",
   "metadata": {},
   "source": [
    "Вот слева от столбцов их индексы."
   ]
  },
  {
   "cell_type": "code",
   "execution_count": 46,
   "metadata": {
    "execution": {
     "iopub.execute_input": "2021-12-16T20:38:20.067930Z",
     "iopub.status.busy": "2021-12-16T20:38:20.067701Z",
     "iopub.status.idle": "2021-12-16T20:38:20.071919Z",
     "shell.execute_reply": "2021-12-16T20:38:20.071327Z",
     "shell.execute_reply.started": "2021-12-16T20:38:20.067903Z"
    }
   },
   "outputs": [],
   "source": [
    "cat_features_list = [1, 6, 7, 8] #это мы передадим в параметры модели"
   ]
  },
  {
   "cell_type": "code",
   "execution_count": 47,
   "metadata": {
    "execution": {
     "iopub.execute_input": "2021-12-16T20:38:20.073597Z",
     "iopub.status.busy": "2021-12-16T20:38:20.073351Z",
     "iopub.status.idle": "2021-12-16T20:38:20.085604Z",
     "shell.execute_reply": "2021-12-16T20:38:20.084622Z",
     "shell.execute_reply.started": "2021-12-16T20:38:20.073567Z"
    }
   },
   "outputs": [],
   "source": [
    "model_cat = CatBoostClassifier(iterations=70, cat_features=cat_features_list, random_seed=12345)"
   ]
  },
  {
   "cell_type": "markdown",
   "metadata": {},
   "source": [
    "Посчитаем время и важность признаков заодно:"
   ]
  },
  {
   "cell_type": "code",
   "execution_count": 48,
   "metadata": {
    "execution": {
     "iopub.execute_input": "2021-12-16T20:38:20.087837Z",
     "iopub.status.busy": "2021-12-16T20:38:20.087097Z",
     "iopub.status.idle": "2021-12-16T20:38:28.634682Z",
     "shell.execute_reply": "2021-12-16T20:38:28.633783Z",
     "shell.execute_reply.started": "2021-12-16T20:38:20.087797Z"
    }
   },
   "outputs": [
    {
     "name": "stdout",
     "output_type": "stream",
     "text": [
      "Learning rate set to 0.096367\n",
      "0:\tlearn: 0.6591639\ttotal: 74ms\tremaining: 5.1s\n",
      "10:\tlearn: 0.4863845\ttotal: 146ms\tremaining: 783ms\n",
      "20:\tlearn: 0.4279062\ttotal: 211ms\tremaining: 493ms\n",
      "30:\tlearn: 0.4057665\ttotal: 251ms\tremaining: 316ms\n",
      "40:\tlearn: 0.3860942\ttotal: 298ms\tremaining: 211ms\n",
      "50:\tlearn: 0.3741312\ttotal: 344ms\tremaining: 128ms\n",
      "60:\tlearn: 0.3660245\ttotal: 393ms\tremaining: 58ms\n",
      "69:\tlearn: 0.3579647\ttotal: 435ms\tremaining: 0us\n",
      "Learning rate set to 0.096367\n",
      "0:\tlearn: 0.6591639\ttotal: 5.18ms\tremaining: 358ms\n",
      "10:\tlearn: 0.4863845\ttotal: 26.3ms\tremaining: 141ms\n",
      "20:\tlearn: 0.4279062\ttotal: 48.7ms\tremaining: 114ms\n",
      "30:\tlearn: 0.4057665\ttotal: 64ms\tremaining: 80.5ms\n",
      "40:\tlearn: 0.3860942\ttotal: 95.2ms\tremaining: 67.3ms\n",
      "50:\tlearn: 0.3741312\ttotal: 112ms\tremaining: 41.9ms\n",
      "60:\tlearn: 0.3660245\ttotal: 126ms\tremaining: 18.6ms\n",
      "69:\tlearn: 0.3579647\ttotal: 146ms\tremaining: 0us\n",
      "Learning rate set to 0.096367\n",
      "0:\tlearn: 0.6591639\ttotal: 1.64ms\tremaining: 113ms\n",
      "10:\tlearn: 0.4863845\ttotal: 19.2ms\tremaining: 103ms\n",
      "20:\tlearn: 0.4279062\ttotal: 51.2ms\tremaining: 120ms\n",
      "30:\tlearn: 0.4057665\ttotal: 94.1ms\tremaining: 118ms\n",
      "40:\tlearn: 0.3860942\ttotal: 131ms\tremaining: 92.3ms\n",
      "50:\tlearn: 0.3741312\ttotal: 146ms\tremaining: 54.5ms\n",
      "60:\tlearn: 0.3660245\ttotal: 160ms\tremaining: 23.7ms\n",
      "69:\tlearn: 0.3579647\ttotal: 178ms\tremaining: 0us\n",
      "Learning rate set to 0.096367\n",
      "0:\tlearn: 0.6591639\ttotal: 1.72ms\tremaining: 119ms\n",
      "10:\tlearn: 0.4863845\ttotal: 17.5ms\tremaining: 93.7ms\n",
      "20:\tlearn: 0.4279062\ttotal: 30.8ms\tremaining: 71.9ms\n",
      "30:\tlearn: 0.4057665\ttotal: 47.1ms\tremaining: 59.2ms\n",
      "40:\tlearn: 0.3860942\ttotal: 90.6ms\tremaining: 64.1ms\n",
      "50:\tlearn: 0.3741312\ttotal: 153ms\tremaining: 56.9ms\n",
      "60:\tlearn: 0.3660245\ttotal: 187ms\tremaining: 27.6ms\n",
      "69:\tlearn: 0.3579647\ttotal: 205ms\tremaining: 0us\n",
      "Learning rate set to 0.096367\n",
      "0:\tlearn: 0.6591639\ttotal: 1.76ms\tremaining: 122ms\n",
      "10:\tlearn: 0.4863845\ttotal: 15.2ms\tremaining: 81.8ms\n",
      "20:\tlearn: 0.4279062\ttotal: 33.4ms\tremaining: 77.8ms\n",
      "30:\tlearn: 0.4057665\ttotal: 53.6ms\tremaining: 67.4ms\n",
      "40:\tlearn: 0.3860942\ttotal: 76.1ms\tremaining: 53.8ms\n",
      "50:\tlearn: 0.3741312\ttotal: 97.7ms\tremaining: 36.4ms\n",
      "60:\tlearn: 0.3660245\ttotal: 122ms\tremaining: 17.9ms\n",
      "69:\tlearn: 0.3579647\ttotal: 144ms\tremaining: 0us\n",
      "Learning rate set to 0.096367\n",
      "0:\tlearn: 0.6591639\ttotal: 2.25ms\tremaining: 155ms\n",
      "10:\tlearn: 0.4863845\ttotal: 53.7ms\tremaining: 288ms\n",
      "20:\tlearn: 0.4279062\ttotal: 88.9ms\tremaining: 207ms\n",
      "30:\tlearn: 0.4057665\ttotal: 194ms\tremaining: 244ms\n",
      "40:\tlearn: 0.3860942\ttotal: 257ms\tremaining: 182ms\n",
      "50:\tlearn: 0.3741312\ttotal: 276ms\tremaining: 103ms\n",
      "60:\tlearn: 0.3660245\ttotal: 290ms\tremaining: 42.8ms\n",
      "69:\tlearn: 0.3579647\ttotal: 309ms\tremaining: 0us\n",
      "Learning rate set to 0.096367\n",
      "0:\tlearn: 0.6591639\ttotal: 2.72ms\tremaining: 188ms\n",
      "10:\tlearn: 0.4863845\ttotal: 16ms\tremaining: 85.8ms\n",
      "20:\tlearn: 0.4279062\ttotal: 31.7ms\tremaining: 74.1ms\n",
      "30:\tlearn: 0.4057665\ttotal: 64.8ms\tremaining: 81.5ms\n",
      "40:\tlearn: 0.3860942\ttotal: 83.4ms\tremaining: 59ms\n",
      "50:\tlearn: 0.3741312\ttotal: 119ms\tremaining: 44.5ms\n",
      "60:\tlearn: 0.3660245\ttotal: 154ms\tremaining: 22.7ms\n",
      "69:\tlearn: 0.3579647\ttotal: 182ms\tremaining: 0us\n",
      "Learning rate set to 0.096367\n",
      "0:\tlearn: 0.6591639\ttotal: 1.69ms\tremaining: 116ms\n",
      "10:\tlearn: 0.4863845\ttotal: 17.4ms\tremaining: 93.3ms\n",
      "20:\tlearn: 0.4279062\ttotal: 30.8ms\tremaining: 71.9ms\n",
      "30:\tlearn: 0.4057665\ttotal: 49ms\tremaining: 61.7ms\n",
      "40:\tlearn: 0.3860942\ttotal: 87.2ms\tremaining: 61.7ms\n",
      "50:\tlearn: 0.3741312\ttotal: 203ms\tremaining: 75.7ms\n",
      "60:\tlearn: 0.3660245\ttotal: 270ms\tremaining: 39.9ms\n",
      "69:\tlearn: 0.3579647\ttotal: 329ms\tremaining: 0us\n",
      "246 ms ± 77.3 ms per loop (mean ± std. dev. of 7 runs, 1 loop each)\n"
     ]
    }
   ],
   "source": [
    "%%timeit\n",
    "model_cat.fit(features_train, target_train, verbose=10)"
   ]
  },
  {
   "cell_type": "code",
   "execution_count": 49,
   "metadata": {
    "execution": {
     "iopub.execute_input": "2021-12-16T20:38:28.636245Z",
     "iopub.status.busy": "2021-12-16T20:38:28.635982Z",
     "iopub.status.idle": "2021-12-16T20:38:28.647921Z",
     "shell.execute_reply": "2021-12-16T20:38:28.646993Z",
     "shell.execute_reply.started": "2021-12-16T20:38:28.636215Z"
    }
   },
   "outputs": [
    {
     "name": "stdout",
     "output_type": "stream",
     "text": [
      "accuracy модели catboost: 0.797752808988764\n",
      "f1 модели catboost: 0.6966292134831461\n"
     ]
    }
   ],
   "source": [
    "predicted_valid_cat = model_cat.predict(features_valid)\n",
    "print(\"accuracy модели catboost:\", accuracy_score(target_valid, predicted_valid_cat))\n",
    "print(\"f1 модели catboost:\", f1_score(target_valid, predicted_valid_cat))"
   ]
  },
  {
   "cell_type": "code",
   "execution_count": 50,
   "metadata": {
    "execution": {
     "iopub.execute_input": "2021-12-16T20:38:28.649498Z",
     "iopub.status.busy": "2021-12-16T20:38:28.649248Z",
     "iopub.status.idle": "2021-12-16T20:38:28.959865Z",
     "shell.execute_reply": "2021-12-16T20:38:28.958935Z",
     "shell.execute_reply.started": "2021-12-16T20:38:28.649459Z"
    }
   },
   "outputs": [
    {
     "name": "stdout",
     "output_type": "stream",
     "text": [
      "Затраченное время для вычисления важности: 0.001 секунд\n"
     ]
    },
    {
     "data": {
      "image/png": "[encoded data removed]",
      "text/plain": [
       "<Figure size 432x432 with 1 Axes>"
      ]
     },
     "metadata": {
      "needs_background": "light"
     },
     "output_type": "display_data"
    }
   ],
   "source": [
    "start_time = time.time()\n",
    "importances_cat_valid = model_cat.feature_importances_\n",
    "std = np.std([\n",
    "    model_cat.feature_importances_], axis=0)\n",
    "elapsed_time = time.time() - start_time\n",
    "\n",
    "print(f\"Затраченное время для вычисления важности: \"\n",
    "      f\"{elapsed_time:.3f} секунд\")\n",
    "\n",
    "cat_importances_valid = pd.Series(importances_cat_valid, index=features_valid.columns)\n",
    "\n",
    "fig, ax = plt.subplots(figsize=(6, 6))\n",
    "cat_importances_valid.plot.bar(yerr=std, ax=ax)\n",
    "ax.set_title(\"Значения функций с использованием MDI для CatBoost\")\n",
    "ax.set_ylabel(\"Среднее снижение содержания примесей\")\n",
    "fig.tight_layout()"
   ]
  },
  {
   "cell_type": "markdown",
   "metadata": {},
   "source": [
    "### LightGBM"
   ]
  },
  {
   "cell_type": "markdown",
   "metadata": {},
   "source": [
    "Нужно определить категориальные столбцы для этой модели"
   ]
  },
  {
   "cell_type": "code",
   "execution_count": 51,
   "metadata": {
    "execution": {
     "iopub.execute_input": "2021-12-16T20:38:28.961283Z",
     "iopub.status.busy": "2021-12-16T20:38:28.961028Z",
     "iopub.status.idle": "2021-12-16T20:38:28.983895Z",
     "shell.execute_reply": "2021-12-16T20:38:28.982842Z",
     "shell.execute_reply.started": "2021-12-16T20:38:28.961254Z"
    }
   },
   "outputs": [],
   "source": [
    "features_train[\n",
    "    ['Sex', \n",
    "     'Cabin', \n",
    "     'Embarked',  \n",
    "     'Cabin_stat']\n",
    "] = features_train[\n",
    "    ['Sex', \n",
    "     'Cabin', \n",
    "     'Embarked',  \n",
    "     'Cabin_stat']\n",
    "].astype('category')\n",
    "\n",
    "features_valid[\n",
    "    ['Sex', \n",
    "     'Cabin', \n",
    "     'Embarked',  \n",
    "     'Cabin_stat']\n",
    "] = features_valid[\n",
    "    ['Sex', \n",
    "     'Cabin', \n",
    "     'Embarked',  \n",
    "     'Cabin_stat']\n",
    "].astype('category')\n",
    "\n",
    "features_test[\n",
    "    ['Sex', \n",
    "     'Cabin', \n",
    "     'Embarked',  \n",
    "     'Cabin_stat']\n",
    "] = features_test[\n",
    "    ['Sex', \n",
    "     'Cabin', \n",
    "     'Embarked',  \n",
    "     'Cabin_stat']\n",
    "].astype('category')"
   ]
  },
  {
   "cell_type": "code",
   "execution_count": 52,
   "metadata": {
    "execution": {
     "iopub.execute_input": "2021-12-16T20:38:28.985361Z",
     "iopub.status.busy": "2021-12-16T20:38:28.985126Z",
     "iopub.status.idle": "2021-12-16T20:38:28.990786Z",
     "shell.execute_reply": "2021-12-16T20:38:28.989506Z",
     "shell.execute_reply.started": "2021-12-16T20:38:28.985334Z"
    }
   },
   "outputs": [],
   "source": [
    "model_gbm = LGBMClassifier(random_state=12345, class_weight='balanced')"
   ]
  },
  {
   "cell_type": "code",
   "execution_count": 53,
   "metadata": {
    "execution": {
     "iopub.execute_input": "2021-12-16T20:38:28.992703Z",
     "iopub.status.busy": "2021-12-16T20:38:28.992484Z",
     "iopub.status.idle": "2021-12-16T20:38:34.312353Z",
     "shell.execute_reply": "2021-12-16T20:38:34.311559Z",
     "shell.execute_reply.started": "2021-12-16T20:38:28.992677Z"
    }
   },
   "outputs": [
    {
     "name": "stdout",
     "output_type": "stream",
     "text": [
      "192 ms ± 83.3 ms per loop (mean ± std. dev. of 7 runs, 1 loop each)\n"
     ]
    }
   ],
   "source": [
    "%%timeit\n",
    "model_gbm.fit(features_train, target_train, verbose=10)"
   ]
  },
  {
   "cell_type": "code",
   "execution_count": 54,
   "metadata": {
    "execution": {
     "iopub.execute_input": "2021-12-16T20:38:34.316706Z",
     "iopub.status.busy": "2021-12-16T20:38:34.316008Z",
     "iopub.status.idle": "2021-12-16T20:38:34.342189Z",
     "shell.execute_reply": "2021-12-16T20:38:34.337009Z",
     "shell.execute_reply.started": "2021-12-16T20:38:34.316664Z"
    }
   },
   "outputs": [
    {
     "name": "stdout",
     "output_type": "stream",
     "text": [
      "accuracy модели LGBM: 0.7940074906367042\n",
      "f1 модели LGBM: 0.7120418848167538\n"
     ]
    }
   ],
   "source": [
    "predicted_valid_gbm = model_gbm.predict(features_valid)\n",
    "print(\"accuracy модели LGBM:\", accuracy_score(target_valid, predicted_valid_gbm))\n",
    "print(\"f1 модели LGBM:\", f1_score(target_valid, predicted_valid_gbm))"
   ]
  },
  {
   "cell_type": "markdown",
   "metadata": {},
   "source": [
    "### Вывод"
   ]
  },
  {
   "cell_type": "markdown",
   "metadata": {},
   "source": [
    "В общем лучше всех моделей справилась модель случайного леса. Её и будем использовать. Градиентный бустинг проиграл :))"
   ]
  },
  {
   "cell_type": "markdown",
   "metadata": {},
   "source": [
    "## Получение предсказаний на тестовых признаках!"
   ]
  },
  {
   "cell_type": "markdown",
   "metadata": {},
   "source": [
    "Хорошим тоном будет объединение выборок обратно в одну большую тестовую."
   ]
  },
  {
   "cell_type": "code",
   "execution_count": 55,
   "metadata": {
    "execution": {
     "iopub.execute_input": "2021-12-16T20:38:34.347260Z",
     "iopub.status.busy": "2021-12-16T20:38:34.346564Z",
     "iopub.status.idle": "2021-12-16T20:38:34.354154Z",
     "shell.execute_reply": "2021-12-16T20:38:34.353297Z",
     "shell.execute_reply.started": "2021-12-16T20:38:34.347213Z"
    }
   },
   "outputs": [],
   "source": [
    "features_train_valid = pd.concat([features_train_ohe, features_valid_ohe])\n",
    "target_train_valid = pd.concat([target_train, target_valid])"
   ]
  },
  {
   "cell_type": "markdown",
   "metadata": {},
   "source": [
    "Обучим модель леса на случайной выборке и получим предсказания."
   ]
  },
  {
   "cell_type": "code",
   "execution_count": 56,
   "metadata": {
    "execution": {
     "iopub.execute_input": "2021-12-16T20:38:34.356516Z",
     "iopub.status.busy": "2021-12-16T20:38:34.355862Z",
     "iopub.status.idle": "2021-12-16T20:38:34.410028Z",
     "shell.execute_reply": "2021-12-16T20:38:34.409378Z",
     "shell.execute_reply.started": "2021-12-16T20:38:34.356472Z"
    }
   },
   "outputs": [],
   "source": [
    "best_model_forest.fit(features_train_valid, target_train_valid)\n",
    "predicted_test = best_model_forest.predict(features_test_ohe)\n"
   ]
  },
  {
   "cell_type": "markdown",
   "metadata": {},
   "source": [
    "Теперь перенесём в сериес предсказания"
   ]
  },
  {
   "cell_type": "code",
   "execution_count": 57,
   "metadata": {
    "execution": {
     "iopub.execute_input": "2021-12-16T20:38:34.415318Z",
     "iopub.status.busy": "2021-12-16T20:38:34.413682Z",
     "iopub.status.idle": "2021-12-16T20:38:34.420633Z",
     "shell.execute_reply": "2021-12-16T20:38:34.420046Z",
     "shell.execute_reply.started": "2021-12-16T20:38:34.415266Z"
    }
   },
   "outputs": [],
   "source": [
    "predict = pd.Series(predicted_test)\n"
   ]
  },
  {
   "cell_type": "markdown",
   "metadata": {},
   "source": [
    "Вернём индекс в столбец таблицы (так нужно по условию проекта)"
   ]
  },
  {
   "cell_type": "code",
   "execution_count": 58,
   "metadata": {
    "execution": {
     "iopub.execute_input": "2021-12-16T20:38:34.423310Z",
     "iopub.status.busy": "2021-12-16T20:38:34.422439Z",
     "iopub.status.idle": "2021-12-16T20:38:34.451502Z",
     "shell.execute_reply": "2021-12-16T20:38:34.450614Z",
     "shell.execute_reply.started": "2021-12-16T20:38:34.423262Z"
    }
   },
   "outputs": [
    {
     "data": {
      "text/html": [
       "<div>\n",
       "<style scoped>\n",
       "    .dataframe tbody tr th:only-of-type {\n",
       "        vertical-align: middle;\n",
       "    }\n",
       "\n",
       "    .dataframe tbody tr th {\n",
       "        vertical-align: top;\n",
       "    }\n",
       "\n",
       "    .dataframe thead th {\n",
       "        text-align: right;\n",
       "    }\n",
       "</style>\n",
       "<table border=\"1\" class=\"dataframe\">\n",
       "  <thead>\n",
       "    <tr style=\"text-align: right;\">\n",
       "      <th></th>\n",
       "      <th>PassengerId</th>\n",
       "      <th>Pclass</th>\n",
       "      <th>Name</th>\n",
       "      <th>Sex</th>\n",
       "      <th>Age</th>\n",
       "      <th>SibSp</th>\n",
       "      <th>Parch</th>\n",
       "      <th>Ticket</th>\n",
       "      <th>Fare</th>\n",
       "      <th>Cabin</th>\n",
       "      <th>Embarked</th>\n",
       "      <th>Cabin_stat</th>\n",
       "    </tr>\n",
       "  </thead>\n",
       "  <tbody>\n",
       "    <tr>\n",
       "      <th>0</th>\n",
       "      <td>892</td>\n",
       "      <td>3</td>\n",
       "      <td>Kelly, Mr. James</td>\n",
       "      <td>male</td>\n",
       "      <td>34</td>\n",
       "      <td>0</td>\n",
       "      <td>0</td>\n",
       "      <td>330911</td>\n",
       "      <td>7.8292</td>\n",
       "      <td>other</td>\n",
       "      <td>Q</td>\n",
       "      <td>other</td>\n",
       "    </tr>\n",
       "    <tr>\n",
       "      <th>1</th>\n",
       "      <td>893</td>\n",
       "      <td>3</td>\n",
       "      <td>Wilkes, Mrs. James (Ellen Needs)</td>\n",
       "      <td>female</td>\n",
       "      <td>47</td>\n",
       "      <td>1</td>\n",
       "      <td>0</td>\n",
       "      <td>363272</td>\n",
       "      <td>7.0000</td>\n",
       "      <td>other</td>\n",
       "      <td>S</td>\n",
       "      <td>other</td>\n",
       "    </tr>\n",
       "    <tr>\n",
       "      <th>2</th>\n",
       "      <td>894</td>\n",
       "      <td>2</td>\n",
       "      <td>Myles, Mr. Thomas Francis</td>\n",
       "      <td>male</td>\n",
       "      <td>62</td>\n",
       "      <td>0</td>\n",
       "      <td>0</td>\n",
       "      <td>240276</td>\n",
       "      <td>9.6875</td>\n",
       "      <td>other</td>\n",
       "      <td>Q</td>\n",
       "      <td>other</td>\n",
       "    </tr>\n",
       "    <tr>\n",
       "      <th>3</th>\n",
       "      <td>895</td>\n",
       "      <td>3</td>\n",
       "      <td>Wirz, Mr. Albert</td>\n",
       "      <td>male</td>\n",
       "      <td>27</td>\n",
       "      <td>0</td>\n",
       "      <td>0</td>\n",
       "      <td>315154</td>\n",
       "      <td>8.6625</td>\n",
       "      <td>other</td>\n",
       "      <td>S</td>\n",
       "      <td>other</td>\n",
       "    </tr>\n",
       "    <tr>\n",
       "      <th>4</th>\n",
       "      <td>896</td>\n",
       "      <td>3</td>\n",
       "      <td>Hirvonen, Mrs. Alexander (Helga E Lindqvist)</td>\n",
       "      <td>female</td>\n",
       "      <td>22</td>\n",
       "      <td>1</td>\n",
       "      <td>1</td>\n",
       "      <td>3101298</td>\n",
       "      <td>12.2875</td>\n",
       "      <td>other</td>\n",
       "      <td>S</td>\n",
       "      <td>other</td>\n",
       "    </tr>\n",
       "    <tr>\n",
       "      <th>...</th>\n",
       "      <td>...</td>\n",
       "      <td>...</td>\n",
       "      <td>...</td>\n",
       "      <td>...</td>\n",
       "      <td>...</td>\n",
       "      <td>...</td>\n",
       "      <td>...</td>\n",
       "      <td>...</td>\n",
       "      <td>...</td>\n",
       "      <td>...</td>\n",
       "      <td>...</td>\n",
       "      <td>...</td>\n",
       "    </tr>\n",
       "    <tr>\n",
       "      <th>412</th>\n",
       "      <td>1305</td>\n",
       "      <td>3</td>\n",
       "      <td>Spector, Mr. Woolf</td>\n",
       "      <td>male</td>\n",
       "      <td>29</td>\n",
       "      <td>0</td>\n",
       "      <td>0</td>\n",
       "      <td>A.5. 3236</td>\n",
       "      <td>8.0500</td>\n",
       "      <td>other</td>\n",
       "      <td>S</td>\n",
       "      <td>other</td>\n",
       "    </tr>\n",
       "    <tr>\n",
       "      <th>413</th>\n",
       "      <td>1306</td>\n",
       "      <td>1</td>\n",
       "      <td>Oliva y Ocana, Dona. Fermina</td>\n",
       "      <td>female</td>\n",
       "      <td>39</td>\n",
       "      <td>0</td>\n",
       "      <td>0</td>\n",
       "      <td>PC 17758</td>\n",
       "      <td>108.9000</td>\n",
       "      <td>C105</td>\n",
       "      <td>C</td>\n",
       "      <td>C</td>\n",
       "    </tr>\n",
       "    <tr>\n",
       "      <th>414</th>\n",
       "      <td>1307</td>\n",
       "      <td>3</td>\n",
       "      <td>Saether, Mr. Simon Sivertsen</td>\n",
       "      <td>male</td>\n",
       "      <td>38</td>\n",
       "      <td>0</td>\n",
       "      <td>0</td>\n",
       "      <td>SOTON/O.Q. 3101262</td>\n",
       "      <td>7.2500</td>\n",
       "      <td>other</td>\n",
       "      <td>S</td>\n",
       "      <td>other</td>\n",
       "    </tr>\n",
       "    <tr>\n",
       "      <th>415</th>\n",
       "      <td>1308</td>\n",
       "      <td>3</td>\n",
       "      <td>Ware, Mr. Frederick</td>\n",
       "      <td>male</td>\n",
       "      <td>29</td>\n",
       "      <td>0</td>\n",
       "      <td>0</td>\n",
       "      <td>359309</td>\n",
       "      <td>8.0500</td>\n",
       "      <td>other</td>\n",
       "      <td>S</td>\n",
       "      <td>other</td>\n",
       "    </tr>\n",
       "    <tr>\n",
       "      <th>416</th>\n",
       "      <td>1309</td>\n",
       "      <td>3</td>\n",
       "      <td>Peter, Master. Michael J</td>\n",
       "      <td>male</td>\n",
       "      <td>29</td>\n",
       "      <td>1</td>\n",
       "      <td>1</td>\n",
       "      <td>2668</td>\n",
       "      <td>22.3583</td>\n",
       "      <td>other</td>\n",
       "      <td>C</td>\n",
       "      <td>other</td>\n",
       "    </tr>\n",
       "  </tbody>\n",
       "</table>\n",
       "<p>417 rows × 12 columns</p>\n",
       "</div>"
      ],
      "text/plain": [
       "     PassengerId  Pclass                                          Name  \\\n",
       "0            892       3                              Kelly, Mr. James   \n",
       "1            893       3              Wilkes, Mrs. James (Ellen Needs)   \n",
       "2            894       2                     Myles, Mr. Thomas Francis   \n",
       "3            895       3                              Wirz, Mr. Albert   \n",
       "4            896       3  Hirvonen, Mrs. Alexander (Helga E Lindqvist)   \n",
       "..           ...     ...                                           ...   \n",
       "412         1305       3                            Spector, Mr. Woolf   \n",
       "413         1306       1                  Oliva y Ocana, Dona. Fermina   \n",
       "414         1307       3                  Saether, Mr. Simon Sivertsen   \n",
       "415         1308       3                           Ware, Mr. Frederick   \n",
       "416         1309       3                      Peter, Master. Michael J   \n",
       "\n",
       "        Sex  Age  SibSp  Parch              Ticket      Fare  Cabin Embarked  \\\n",
       "0      male   34      0      0              330911    7.8292  other        Q   \n",
       "1    female   47      1      0              363272    7.0000  other        S   \n",
       "2      male   62      0      0              240276    9.6875  other        Q   \n",
       "3      male   27      0      0              315154    8.6625  other        S   \n",
       "4    female   22      1      1             3101298   12.2875  other        S   \n",
       "..      ...  ...    ...    ...                 ...       ...    ...      ...   \n",
       "412    male   29      0      0           A.5. 3236    8.0500  other        S   \n",
       "413  female   39      0      0            PC 17758  108.9000   C105        C   \n",
       "414    male   38      0      0  SOTON/O.Q. 3101262    7.2500  other        S   \n",
       "415    male   29      0      0              359309    8.0500  other        S   \n",
       "416    male   29      1      1                2668   22.3583  other        C   \n",
       "\n",
       "    Cabin_stat  \n",
       "0        other  \n",
       "1        other  \n",
       "2        other  \n",
       "3        other  \n",
       "4        other  \n",
       "..         ...  \n",
       "412      other  \n",
       "413          C  \n",
       "414      other  \n",
       "415      other  \n",
       "416      other  \n",
       "\n",
       "[417 rows x 12 columns]"
      ]
     },
     "execution_count": 58,
     "metadata": {},
     "output_type": "execute_result"
    }
   ],
   "source": [
    "test = test.rename_axis('PassengerId').reset_index()\n",
    "test"
   ]
  },
  {
   "cell_type": "markdown",
   "metadata": {},
   "source": [
    "вынесем нумеровку пассажиров как сериес (мы будем делать итоговую таблицу)."
   ]
  },
  {
   "cell_type": "code",
   "execution_count": 59,
   "metadata": {
    "execution": {
     "iopub.execute_input": "2021-12-16T20:38:34.452886Z",
     "iopub.status.busy": "2021-12-16T20:38:34.452658Z",
     "iopub.status.idle": "2021-12-16T20:38:34.459652Z",
     "shell.execute_reply": "2021-12-16T20:38:34.459114Z",
     "shell.execute_reply.started": "2021-12-16T20:38:34.452856Z"
    }
   },
   "outputs": [
    {
     "data": {
      "text/plain": [
       "0       892\n",
       "1       893\n",
       "2       894\n",
       "3       895\n",
       "4       896\n",
       "       ... \n",
       "412    1305\n",
       "413    1306\n",
       "414    1307\n",
       "415    1308\n",
       "416    1309\n",
       "Name: PassengerId, Length: 417, dtype: int64"
      ]
     },
     "execution_count": 59,
     "metadata": {},
     "output_type": "execute_result"
    }
   ],
   "source": [
    "passenger = test['PassengerId']\n",
    "passenger"
   ]
  },
  {
   "cell_type": "markdown",
   "metadata": {},
   "source": [
    "Подготовим словарик для нашей итоговой таблицы:"
   ]
  },
  {
   "cell_type": "code",
   "execution_count": 60,
   "metadata": {
    "execution": {
     "iopub.execute_input": "2021-12-16T20:38:34.461053Z",
     "iopub.status.busy": "2021-12-16T20:38:34.460734Z",
     "iopub.status.idle": "2021-12-16T20:38:34.472310Z",
     "shell.execute_reply": "2021-12-16T20:38:34.471461Z",
     "shell.execute_reply.started": "2021-12-16T20:38:34.460955Z"
    }
   },
   "outputs": [],
   "source": [
    "\n",
    "data = {\n",
    "    'PassengerId': passenger, \n",
    "    'Survived': predict\n",
    "}"
   ]
  },
  {
   "cell_type": "markdown",
   "metadata": {},
   "source": [
    "А теперь создадим, наконец-то, таблицу"
   ]
  },
  {
   "cell_type": "code",
   "execution_count": 61,
   "metadata": {
    "execution": {
     "iopub.execute_input": "2021-12-16T20:38:34.474014Z",
     "iopub.status.busy": "2021-12-16T20:38:34.473338Z",
     "iopub.status.idle": "2021-12-16T20:38:34.491861Z",
     "shell.execute_reply": "2021-12-16T20:38:34.490823Z",
     "shell.execute_reply.started": "2021-12-16T20:38:34.473944Z"
    }
   },
   "outputs": [
    {
     "data": {
      "text/html": [
       "<div>\n",
       "<style scoped>\n",
       "    .dataframe tbody tr th:only-of-type {\n",
       "        vertical-align: middle;\n",
       "    }\n",
       "\n",
       "    .dataframe tbody tr th {\n",
       "        vertical-align: top;\n",
       "    }\n",
       "\n",
       "    .dataframe thead th {\n",
       "        text-align: right;\n",
       "    }\n",
       "</style>\n",
       "<table border=\"1\" class=\"dataframe\">\n",
       "  <thead>\n",
       "    <tr style=\"text-align: right;\">\n",
       "      <th></th>\n",
       "      <th>PassengerId</th>\n",
       "      <th>Survived</th>\n",
       "    </tr>\n",
       "  </thead>\n",
       "  <tbody>\n",
       "    <tr>\n",
       "      <th>0</th>\n",
       "      <td>892</td>\n",
       "      <td>0</td>\n",
       "    </tr>\n",
       "    <tr>\n",
       "      <th>1</th>\n",
       "      <td>893</td>\n",
       "      <td>0</td>\n",
       "    </tr>\n",
       "    <tr>\n",
       "      <th>2</th>\n",
       "      <td>894</td>\n",
       "      <td>0</td>\n",
       "    </tr>\n",
       "    <tr>\n",
       "      <th>3</th>\n",
       "      <td>895</td>\n",
       "      <td>0</td>\n",
       "    </tr>\n",
       "    <tr>\n",
       "      <th>4</th>\n",
       "      <td>896</td>\n",
       "      <td>1</td>\n",
       "    </tr>\n",
       "    <tr>\n",
       "      <th>...</th>\n",
       "      <td>...</td>\n",
       "      <td>...</td>\n",
       "    </tr>\n",
       "    <tr>\n",
       "      <th>412</th>\n",
       "      <td>1305</td>\n",
       "      <td>0</td>\n",
       "    </tr>\n",
       "    <tr>\n",
       "      <th>413</th>\n",
       "      <td>1306</td>\n",
       "      <td>1</td>\n",
       "    </tr>\n",
       "    <tr>\n",
       "      <th>414</th>\n",
       "      <td>1307</td>\n",
       "      <td>0</td>\n",
       "    </tr>\n",
       "    <tr>\n",
       "      <th>415</th>\n",
       "      <td>1308</td>\n",
       "      <td>0</td>\n",
       "    </tr>\n",
       "    <tr>\n",
       "      <th>416</th>\n",
       "      <td>1309</td>\n",
       "      <td>0</td>\n",
       "    </tr>\n",
       "  </tbody>\n",
       "</table>\n",
       "<p>417 rows × 2 columns</p>\n",
       "</div>"
      ],
      "text/plain": [
       "     PassengerId  Survived\n",
       "0            892         0\n",
       "1            893         0\n",
       "2            894         0\n",
       "3            895         0\n",
       "4            896         1\n",
       "..           ...       ...\n",
       "412         1305         0\n",
       "413         1306         1\n",
       "414         1307         0\n",
       "415         1308         0\n",
       "416         1309         0\n",
       "\n",
       "[417 rows x 2 columns]"
      ]
     },
     "execution_count": 61,
     "metadata": {},
     "output_type": "execute_result"
    }
   ],
   "source": [
    "df = pd.DataFrame(data=data)\n",
    "df"
   ]
  },
  {
   "cell_type": "markdown",
   "metadata": {},
   "source": [
    "И выведем её наружу из тетради)"
   ]
  },
  {
   "cell_type": "code",
   "execution_count": 62,
   "metadata": {
    "execution": {
     "iopub.execute_input": "2021-12-16T20:38:34.494131Z",
     "iopub.status.busy": "2021-12-16T20:38:34.493782Z",
     "iopub.status.idle": "2021-12-16T20:38:34.507707Z",
     "shell.execute_reply": "2021-12-16T20:38:34.506440Z",
     "shell.execute_reply.started": "2021-12-16T20:38:34.494068Z"
    }
   },
   "outputs": [],
   "source": [
    "\n",
    "df.to_csv(r'predict.csv')"
   ]
  }
 ],
 "metadata": {
  "kernelspec": {
   "display_name": "Python 3",
   "language": "python",
   "name": "python3"
  },
  "language_info": {
   "codemirror_mode": {
    "name": "ipython",
    "version": 3
   },
   "file_extension": ".py",
   "mimetype": "text/x-python",
   "name": "python",
   "nbconvert_exporter": "python",
   "pygments_lexer": "ipython3",
   "version": "3.7.0"
  }
 },
 "nbformat": 4,
 "nbformat_minor": 4
}
